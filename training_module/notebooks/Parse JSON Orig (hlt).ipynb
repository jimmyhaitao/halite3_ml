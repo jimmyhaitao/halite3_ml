{
 "cells": [
  {
   "cell_type": "code",
   "execution_count": 75,
   "metadata": {},
   "outputs": [],
   "source": [
    "import copy\n",
    "import json\n",
    "import zstd\n",
    "import numpy as np"
   ]
  },
  {
   "cell_type": "code",
   "execution_count": 50,
   "metadata": {},
   "outputs": [],
   "source": [
    "from training_module import hlt"
   ]
  },
  {
   "cell_type": "code",
   "execution_count": 4,
   "metadata": {},
   "outputs": [],
   "source": [
    "path = '/Users/Peace/Desktop/replays/ts2018-halite-3-gold-replays_replay-20181016-000040%2B0000-1539647993-48-48'\n",
    "\n",
    "with open(path, 'rb') as infile:\n",
    "    raw_replay = zstd.loads(infile.read()).decode()\n",
    "    \n",
    "parsed_replay = json.loads(raw_replay)"
   ]
  },
  {
   "cell_type": "code",
   "execution_count": 6,
   "metadata": {},
   "outputs": [
    {
     "data": {
      "text/plain": [
       "dict_keys(['ENGINE_VERSION', 'GAME_CONSTANTS', 'REPLAY_FILE_VERSION', 'full_frames', 'game_statistics', 'map_generator_seed', 'number_of_players', 'players', 'production_map'])"
      ]
     },
     "execution_count": 6,
     "metadata": {},
     "output_type": "execute_result"
    }
   ],
   "source": [
    "parsed_replay.keys()"
   ]
  },
  {
   "cell_type": "code",
   "execution_count": null,
   "metadata": {},
   "outputs": [],
   "source": []
  },
  {
   "cell_type": "code",
   "execution_count": 16,
   "metadata": {},
   "outputs": [],
   "source": [
    "meta_data = {key: parsed_replay[key] for key in ['ENGINE_VERSION', 'GAME_CONSTANTS', 'REPLAY_FILE_VERSION',\n",
    "                                                'game_statistics', 'map_generator_seed',\n",
    "                                                'number_of_players', 'players']}"
   ]
  },
  {
   "cell_type": "code",
   "execution_count": null,
   "metadata": {},
   "outputs": [],
   "source": []
  },
  {
   "cell_type": "code",
   "execution_count": 37,
   "metadata": {},
   "outputs": [
    {
     "data": {
      "text/plain": [
       "dict_keys(['cells', 'deposited', 'energy', 'entities', 'events', 'moves'])"
      ]
     },
     "execution_count": 37,
     "metadata": {},
     "output_type": "execute_result"
    }
   ],
   "source": [
    "parsed_replay['full_frames'][0].keys()"
   ]
  },
  {
   "cell_type": "code",
   "execution_count": 86,
   "metadata": {},
   "outputs": [
    {
     "data": {
      "text/plain": [
       "{'cells': [{'production': 24, 'x': 13, 'y': 33},\n",
       "  {'production': 276, 'x': 16, 'y': 17},\n",
       "  {'production': 302, 'x': 32, 'y': 31},\n",
       "  {'production': 298, 'x': 16, 'y': 16},\n",
       "  {'production': 130, 'x': 32, 'y': 15},\n",
       "  {'production': 15, 'x': 15, 'y': 33},\n",
       "  {'production': 221, 'x': 13, 'y': 11},\n",
       "  {'production': 47, 'x': 16, 'y': 33},\n",
       "  {'production': 338, 'x': 17, 'y': 16},\n",
       "  {'production': 105, 'x': 31, 'y': 13},\n",
       "  {'production': 174, 'x': 15, 'y': 32},\n",
       "  {'production': 234, 'x': 15, 'y': 17}],\n",
       " 'deposited': {'0': 0, '1': 0, '2': 5, '3': 292},\n",
       " 'energy': {'0': 0, '1': 0, '2': 5, '3': 292},\n",
       " 'entities': {'0': {'10': {'energy': 203,\n",
       "    'is_inspired': False,\n",
       "    'x': 16,\n",
       "    'y': 16},\n",
       "   '12': {'energy': 323, 'is_inspired': False, 'x': 16, 'y': 17},\n",
       "   '2': {'energy': 286, 'is_inspired': False, 'x': 17, 'y': 16},\n",
       "   '5': {'energy': 545, 'is_inspired': False, 'x': 15, 'y': 17},\n",
       "   '7': {'energy': 200, 'is_inspired': False, 'x': 13, 'y': 11}},\n",
       "  '1': {'15': {'energy': 39, 'is_inspired': False, 'x': 31, 'y': 14},\n",
       "   '19': {'energy': 35, 'is_inspired': False, 'x': 33, 'y': 15},\n",
       "   '3': {'energy': 445, 'is_inspired': False, 'x': 31, 'y': 13},\n",
       "   '4': {'energy': 352, 'is_inspired': False, 'x': 31, 'y': 15},\n",
       "   '9': {'energy': 345, 'is_inspired': False, 'x': 32, 'y': 15}},\n",
       "  '2': {'1': {'energy': 332, 'is_inspired': False, 'x': 16, 'y': 33},\n",
       "   '13': {'energy': 238, 'is_inspired': False, 'x': 14, 'y': 34},\n",
       "   '14': {'energy': 159, 'is_inspired': False, 'x': 13, 'y': 33},\n",
       "   '17': {'energy': 0, 'is_inspired': False, 'x': 15, 'y': 33},\n",
       "   '8': {'energy': 345, 'is_inspired': False, 'x': 15, 'y': 32}},\n",
       "  '3': {'11': {'energy': 326, 'is_inspired': False, 'x': 32, 'y': 31},\n",
       "   '16': {'energy': 0, 'is_inspired': False, 'x': 33, 'y': 33},\n",
       "   '18': {'energy': 111, 'is_inspired': False, 'x': 33, 'y': 32}}},\n",
       " 'events': [],\n",
       " 'moves': {'0': [{'direction': 'o', 'id': 10, 'type': 'm'},\n",
       "   {'direction': 'o', 'id': 7, 'type': 'm'},\n",
       "   {'direction': 'o', 'id': 2, 'type': 'm'},\n",
       "   {'direction': 'o', 'id': 12, 'type': 'm'},\n",
       "   {'direction': 'o', 'id': 5, 'type': 'm'}],\n",
       "  '1': [{'direction': 'w', 'id': 15, 'type': 'm'},\n",
       "   {'direction': 's', 'id': 4, 'type': 'm'},\n",
       "   {'direction': 's', 'id': 19, 'type': 'm'}],\n",
       "  '2': [{'direction': 'o', 'id': 1, 'type': 'm'},\n",
       "   {'direction': 'o', 'id': 8, 'type': 'm'},\n",
       "   {'direction': 'e', 'id': 13, 'type': 'm'},\n",
       "   {'direction': 'o', 'id': 14, 'type': 'm'},\n",
       "   {'direction': 'w', 'id': 17, 'type': 'm'}],\n",
       "  '3': [{'direction': 'n', 'id': 16, 'type': 'm'},\n",
       "   {'direction': 'o', 'id': 11, 'type': 'm'},\n",
       "   {'direction': 'e', 'id': 18, 'type': 'm'}]}}"
      ]
     },
     "execution_count": 86,
     "metadata": {},
     "output_type": "execute_result"
    }
   ],
   "source": [
    "parsed_replay['full_frames'][15]#['energy']"
   ]
  },
  {
   "cell_type": "code",
   "execution_count": 22,
   "metadata": {},
   "outputs": [
    {
     "data": {
      "text/plain": [
       "dict_keys(['energy'])"
      ]
     },
     "execution_count": 22,
     "metadata": {},
     "output_type": "execute_result"
    }
   ],
   "source": [
    "parsed_replay['production_map']['grid'][0][0].keys()"
   ]
  },
  {
   "cell_type": "code",
   "execution_count": 33,
   "metadata": {},
   "outputs": [],
   "source": [
    "assert list(parsed_replay['production_map']['grid'][0][0].keys()) == ['energy'] # Ensure no surprises here"
   ]
  },
  {
   "cell_type": "code",
   "execution_count": 48,
   "metadata": {},
   "outputs": [
    {
     "data": {
      "text/plain": [
       "array([[  6,  14,  48, ...,  48,  14,   6],\n",
       "       [ 33,  61,  38, ...,  38,  61,  33],\n",
       "       [160, 118,  23, ...,  23, 118, 160],\n",
       "       ...,\n",
       "       [160, 118,  23, ...,  23, 118, 160],\n",
       "       [ 33,  61,  38, ...,  38,  61,  33],\n",
       "       [  6,  14,  48, ...,  48,  14,   6]])"
      ]
     },
     "execution_count": 48,
     "metadata": {},
     "output_type": "execute_result"
    }
   ],
   "source": [
    "raw_energy_grid = parsed_replay['production_map']['grid']\n",
    "energy_grid = []\n",
    "for row in raw_energy_grid:\n",
    "    energy_grid.append([x['energy'] for x in row])\n",
    "np.array(energy_grid)\n"
   ]
  },
  {
   "cell_type": "code",
   "execution_count": 82,
   "metadata": {},
   "outputs": [],
   "source": [
    "def extract_frames(data):\n",
    "    width = data['production_map']['width']\n",
    "    height = data['production_map']['height']\n",
    "\n",
    "\n",
    "    print(\"Load Cell Information\")\n",
    "    first_cells = []\n",
    "    for x in range(len(data['production_map']['grid'])):\n",
    "        row = []\n",
    "        for y in range(len(data['production_map']['grid'][x])):\n",
    "            row += [hlt.MapCell(hlt.Position(x, y), data['production_map']['grid'][x][y]['energy'])]\n",
    "        first_cells.append(row)\n",
    "    frames = []\n",
    "    for f in data['full_frames']:\n",
    "        prev_cells = first_cells if len(frames) == 0 else frames[-1]._cells\n",
    "        new_cells = copy.deepcopy(prev_cells)\n",
    "        for c in f['cells']:\n",
    "            new_cells[c['y']][c['x']].halite_amount = c['production']\n",
    "        frames.append(hlt.GameMap(new_cells, width, height))\n",
    "    \n",
    "    return frames"
   ]
  },
  {
   "cell_type": "code",
   "execution_count": 76,
   "metadata": {},
   "outputs": [],
   "source": [
    "def parse_replay(data, player_names):\n",
    "    \n",
    "    for player in player_names:\n",
    "\n",
    "        print(\"Load Basic Information\")\n",
    "        player = [p for p in data['players'] if p['name'].split(\" \")[0] == player_name][0]\n",
    "        player_id = int(player['player_id'])\n",
    "        my_shipyard = hlt.Shipyard(player_id, None,\n",
    "                                   hlt.Position(player['factory_location']['x'], player['factory_location']['y']))\n",
    "        other_shipyards = [\n",
    "            hlt.Shipyard(p['player_id'], None, hlt.Position(p['factory_location']['x'], p['factory_location']['y']))\n",
    "            for p in data['players'] if int(p['player_id']) != player_id]\n",
    "        width = data['production_map']['width']\n",
    "        height = data['production_map']['height']\n",
    "\n",
    "\n",
    "\n",
    "        print(\"Load Player Ships\")\n",
    "        moves = [{} if str(player_id) not in f['moves'] else {m['id']: m['direction'] for m in f['moves'][str(player_id)] if\n",
    "                                                              m['type'] == \"m\"} for f in data['full_frames']]\n",
    "        ships = [{} if str(player_id) not in f['entities'] else {\n",
    "            int(sid): hlt.Ship(player_id, int(sid), hlt.Position(ship['x'], ship['y']), ship['energy']) for sid, ship in\n",
    "            f['entities'][str(player_id)].items()} for f in data['full_frames']]\n",
    "\n",
    "        print(\"Load Other Player Ships\")\n",
    "        other_ships = [\n",
    "            {int(sid): hlt.Ship(int(pid), int(sid), hlt.Position(ship['x'], ship['y']), ship['energy']) for pid, p in\n",
    "             f['entities'].items() if\n",
    "             int(pid) != player_id for sid, ship in p.items()} for f in data['full_frames']]\n",
    "\n",
    "        print(\"Load Droppoff Information\")\n",
    "        first_my_dropoffs = [my_shipyard]\n",
    "        first_them_dropoffs = other_shipyards\n",
    "        my_dropoffs = []\n",
    "        them_dropoffs = []\n",
    "        for f in data['full_frames']:\n",
    "            new_my_dropoffs = copy.deepcopy(first_my_dropoffs if len(my_dropoffs) == 0 else my_dropoffs[-1])\n",
    "            new_them_dropoffs = copy.deepcopy(first_them_dropoffs if len(them_dropoffs) == 0 else them_dropoffs[-1])\n",
    "            for e in f['events']:\n",
    "                if e['type'] == 'construct':\n",
    "                    if int(e['owner_id']) == player_id:\n",
    "                        new_my_dropoffs.append(\n",
    "                            hlt.Dropoff(player_id, None, hlt.Position(e['location']['x'], e['location']['y'])))\n",
    "                    else:\n",
    "                        new_them_dropoffs.append(\n",
    "                            hlt.Dropoff(e['owner_id'], None, hlt.Position(e['location']['x'], e['location']['y'])))\n",
    "            my_dropoffs.append(new_my_dropoffs)\n",
    "            them_dropoffs.append(new_them_dropoffs)\n",
    "        yield list(zip(frames, moves, ships, other_ships, my_dropoffs, them_dropoffs))"
   ]
  },
  {
   "cell_type": "code",
   "execution_count": 77,
   "metadata": {},
   "outputs": [],
   "source": [
    "player_names = [x['name'].split(' ')[0] for x in meta_data['players']]"
   ]
  },
  {
   "cell_type": "code",
   "execution_count": 83,
   "metadata": {},
   "outputs": [
    {
     "name": "stdout",
     "output_type": "stream",
     "text": [
      "Load Cell Information\n"
     ]
    }
   ],
   "source": [
    "frames = extract_frames(parsed_replay)"
   ]
  },
  {
   "cell_type": "code",
   "execution_count": 84,
   "metadata": {},
   "outputs": [
    {
     "data": {
      "text/plain": [
       "[<training_module.hlt.GameMap at 0x1722e5eb8>,\n",
       " <training_module.hlt.GameMap at 0x1722e5ef0>]"
      ]
     },
     "execution_count": 84,
     "metadata": {},
     "output_type": "execute_result"
    }
   ],
   "source": [
    "frames[:2]"
   ]
  },
  {
   "cell_type": "code",
   "execution_count": 79,
   "metadata": {},
   "outputs": [
    {
     "name": "stdout",
     "output_type": "stream",
     "text": [
      "Load Basic Information\n",
      "Load Cell Information\n",
      "Load Player Ships\n",
      "Load Other Player Ships\n",
      "Load Droppoff Information\n",
      "Load Basic Information\n",
      "Load Cell Information\n",
      "Load Player Ships\n",
      "Load Other Player Ships\n",
      "Load Droppoff Information\n",
      "Load Basic Information\n",
      "Load Cell Information\n",
      "Load Player Ships\n",
      "Load Other Player Ships\n",
      "Load Droppoff Information\n",
      "Load Basic Information\n",
      "Load Cell Information\n",
      "Load Player Ships\n",
      "Load Other Player Ships\n",
      "Load Droppoff Information\n"
     ]
    }
   ],
   "source": [
    "#all_data = []\n",
    "_data = parse_replay(parsed_replay, player_names)\n"
   ]
  },
  {
   "cell_type": "code",
   "execution_count": null,
   "metadata": {},
   "outputs": [],
   "source": []
  },
  {
   "cell_type": "code",
   "execution_count": null,
   "metadata": {},
   "outputs": [],
   "source": []
  }
 ],
 "metadata": {
  "kernelspec": {
   "display_name": "Python 3",
   "language": "python",
   "name": "python3"
  },
  "language_info": {
   "codemirror_mode": {
    "name": "ipython",
    "version": 3
   },
   "file_extension": ".py",
   "mimetype": "text/x-python",
   "name": "python",
   "nbconvert_exporter": "python",
   "pygments_lexer": "ipython3",
   "version": "3.6.6"
  }
 },
 "nbformat": 4,
 "nbformat_minor": 2
}
