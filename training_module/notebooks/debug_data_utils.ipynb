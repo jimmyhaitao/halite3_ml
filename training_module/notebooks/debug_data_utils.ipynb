{
 "cells": [
  {
   "cell_type": "code",
   "execution_count": 1,
   "metadata": {},
   "outputs": [],
   "source": [
    "from core.data_utils import Game\n",
    "import numpy as np"
   ]
  },
  {
   "cell_type": "code",
   "execution_count": 2,
   "metadata": {},
   "outputs": [],
   "source": [
    "path = '/Users/Peace/Desktop/replays/20181019/ts2018-halite-3-gold-replays_replay-20181019-000141%2B0000-1539907278-32-32'"
   ]
  },
  {
   "cell_type": "code",
   "execution_count": 3,
   "metadata": {},
   "outputs": [],
   "source": [
    "class Game(Game):\n",
    "    def load_entities(self, replay):\n",
    "        \n",
    "        map_size = self.meta_data['GAME_CONSTANTS']['DEFAULT_MAP_HEIGHT'] # Assuming square\n",
    "        num_players = int(self.meta_data['number_of_players'])\n",
    "        num_features = 2\n",
    "        entities = []\n",
    "        ship_ids = []\n",
    "        for ix, frame in enumerate(replay['full_frames'][1:-1]): # No entities on first frame (last doesn't matter)\n",
    "            frame_entities = np.zeros((map_size, map_size, num_features+num_players), dtype=np.int32)\n",
    "            frame_ship_ids = np.zeros((map_size, map_size), dtype=np.float32)\n",
    "            for pid in range(num_players):\n",
    "                for ent in frame['entities'][str(pid)]:\n",
    "                    ship_id = int(ent)\n",
    "                    ent = frame['entities'][str(pid)][ent]\n",
    "                    frame_entities[ent['y'], ent['x'], 0] = ent['energy']\n",
    "                    frame_entities[ent['y'], ent['x'], 1] = int(ent['is_inspired']) # Not used\n",
    "                    frame_entities[ent['y'], ent['x'], pid+num_features] = 1\n",
    "                    frame_ship_ids[ent['y'], ent['x']] = ship_id\n",
    "            entities.append(frame_entities)\n",
    "            ship_ids.append(frame_ship_ids)\n",
    "\n",
    "        return np.array(entities), np.array(ship_ids)\n",
    "\n",
    "\n",
    "game = Game()\n",
    "game.load_replay(path)"
   ]
  },
  {
   "cell_type": "code",
   "execution_count": 4,
   "metadata": {},
   "outputs": [],
   "source": [
    "frames, moves, generate, my_player_features, opponent_features, will_have_ship, should_construct, did_win = game.get_training_frames(pname='Hjax')"
   ]
  },
  {
   "cell_type": "code",
   "execution_count": 12,
   "metadata": {},
   "outputs": [
    {
     "data": {
      "text/plain": [
       "array([[0, 0, 0, 0],\n",
       "       [0, 0, 1, 0],\n",
       "       [1, 1, 1, 0],\n",
       "       [0, 1, 0, 0]], dtype=uint8)"
      ]
     },
     "execution_count": 12,
     "metadata": {},
     "output_type": "execute_result"
    }
   ],
   "source": [
    "will_have_ship[5, 15:19, 15:19]"
   ]
  },
  {
   "cell_type": "code",
   "execution_count": 6,
   "metadata": {},
   "outputs": [
    {
     "data": {
      "text/plain": [
       "array([[0, 0, 0, 0],\n",
       "       [0, 3, 0, 0],\n",
       "       [0, 2, 0, 0],\n",
       "       [0, 0, 0, 0]], dtype=uint8)"
      ]
     },
     "execution_count": 6,
     "metadata": {},
     "output_type": "execute_result"
    }
   ],
   "source": [
    "moves[5, 15:19, 15:19]"
   ]
  },
  {
   "cell_type": "code",
   "execution_count": 8,
   "metadata": {},
   "outputs": [
    {
     "data": {
      "text/plain": [
       "array([[0.        , 0.        , 0.        , 0.        ],\n",
       "       [0.        , 0.31999999, 0.25999999, 0.        ],\n",
       "       [0.12      , 0.2       , 0.        , 0.        ],\n",
       "       [0.        , 0.06      , 0.        , 0.        ]])"
      ]
     },
     "execution_count": 8,
     "metadata": {},
     "output_type": "execute_result"
    }
   ],
   "source": [
    "frames[5, 15:19, 15:19, 6]"
   ]
  },
  {
   "cell_type": "code",
   "execution_count": 11,
   "metadata": {},
   "outputs": [
    {
     "data": {
      "text/plain": [
       "array([[[ 0.023     , -0.        ,  0.        ,  0.        ,\n",
       "          0.        ,  0.        ,  0.        ],\n",
       "        [ 0.041     , -0.        ,  0.        ,  0.        ,\n",
       "          0.        ,  0.        ,  0.        ],\n",
       "        [ 0.02      , -0.        ,  0.        ,  0.        ,\n",
       "          0.        ,  0.        ,  0.        ],\n",
       "        [ 0.024     , -0.        ,  0.        ,  0.        ,\n",
       "          0.        ,  0.        ,  0.        ]],\n",
       "\n",
       "       [[ 0.007     , -0.        ,  0.        ,  0.        ,\n",
       "          0.        ,  0.        ,  0.        ],\n",
       "        [ 0.        ,  1.        ,  0.        ,  1.        ,\n",
       "          0.        ,  0.        ,  0.31999999],\n",
       "        [ 0.094     ,  1.        ,  0.        ,  0.        ,\n",
       "          0.        ,  0.        ,  0.25999999],\n",
       "        [ 0.104     , -0.        ,  0.        ,  0.        ,\n",
       "          0.        ,  0.        ,  0.        ]],\n",
       "\n",
       "       [[ 0.096     ,  1.        ,  0.003     ,  0.        ,\n",
       "          0.        ,  0.        ,  0.12      ],\n",
       "        [ 0.019     ,  1.        ,  0.007     ,  0.        ,\n",
       "          0.        ,  0.        ,  0.2       ],\n",
       "        [ 0.037     , -0.        ,  0.        ,  0.        ,\n",
       "          0.        ,  0.        ,  0.        ],\n",
       "        [ 0.082     , -0.        ,  0.        ,  0.        ,\n",
       "          0.        ,  0.        ,  0.        ]],\n",
       "\n",
       "       [[ 0.293     , -0.        ,  0.        ,  0.        ,\n",
       "          0.        ,  0.        ,  0.        ],\n",
       "        [ 0.214     ,  1.        ,  0.079     ,  0.        ,\n",
       "          0.        ,  0.        ,  0.06      ],\n",
       "        [ 0.094     , -0.        ,  0.        ,  0.        ,\n",
       "          0.        ,  0.        ,  0.        ],\n",
       "        [ 0.097     , -0.        ,  0.        ,  0.        ,\n",
       "          0.        ,  0.        ,  0.        ]]])"
      ]
     },
     "execution_count": 11,
     "metadata": {},
     "output_type": "execute_result"
    }
   ],
   "source": [
    "frames[5, 15:19, 15:19, :]"
   ]
  },
  {
   "cell_type": "code",
   "execution_count": 38,
   "metadata": {},
   "outputs": [
    {
     "data": {
      "text/plain": [
       "array([[0., 0., 0., 0., 0.],\n",
       "       [0., 0., 0., 0., 0.],\n",
       "       [0., 0., 0., 0., 0.],\n",
       "       [0., 0., 0., 0., 0.],\n",
       "       [0., 0., 0., 0., 0.]], dtype=float32)"
      ]
     },
     "execution_count": 38,
     "metadata": {},
     "output_type": "execute_result"
    }
   ],
   "source": [
    "game.ship_ids[5, 15:20, 15:20]"
   ]
  },
  {
   "cell_type": "code",
   "execution_count": 40,
   "metadata": {},
   "outputs": [
    {
     "data": {
      "text/plain": [
       "0.9599999822676182"
      ]
     },
     "execution_count": 40,
     "metadata": {},
     "output_type": "execute_result"
    }
   ],
   "source": [
    "np.sum(frames[5,:,:,6])"
   ]
  },
  {
   "cell_type": "code",
   "execution_count": 39,
   "metadata": {},
   "outputs": [
    {
     "data": {
      "text/plain": [
       "1018462.0"
      ]
     },
     "execution_count": 39,
     "metadata": {},
     "output_type": "execute_result"
    }
   ],
   "source": [
    "np.sum(game.ship_ids)"
   ]
  },
  {
   "cell_type": "code",
   "execution_count": 22,
   "metadata": {},
   "outputs": [
    {
     "data": {
      "text/plain": [
       "array([1., 1., 1., 1., 1., 1., 1., 1., 1., 1., 1., 1., 1., 1., 1., 1., 1.,\n",
       "       1., 1., 1., 1., 1., 1., 1., 1., 1., 1., 1., 1., 1., 1., 1., 1., 1.,\n",
       "       1., 1., 1., 1., 1., 1., 1., 1., 1., 1., 1., 1., 1., 1., 1., 1., 1.,\n",
       "       1., 1., 1., 1., 1., 1., 1., 1., 1., 1., 1., 1., 1., 1., 1., 1., 1.,\n",
       "       1., 1., 1., 1., 1., 1., 1., 1., 1., 1., 1., 1., 1., 1., 1., 1., 1.,\n",
       "       1., 1., 1., 1., 1., 1., 1., 1., 1., 1., 1., 1., 1., 1., 1., 1., 1.,\n",
       "       1., 1., 1., 1., 1., 1., 1., 1., 1., 1., 1., 1., 1., 1., 1., 1., 1.,\n",
       "       1., 1., 1., 1., 1., 1., 1., 1., 1., 1., 1., 1., 1., 1., 1., 1., 1.,\n",
       "       1., 1., 1., 1., 1., 1., 1., 1., 1., 1., 1., 1., 1., 1., 1., 1., 1.,\n",
       "       1., 1., 1., 1., 1., 1., 1., 1., 1., 1., 1., 1., 1., 1., 1., 1., 1.,\n",
       "       1., 1., 1., 1., 1., 1., 1., 1., 1., 1., 1., 1., 1., 1., 1., 1., 1.,\n",
       "       1., 1., 1., 1., 1., 1., 1., 1., 1., 1., 1., 1., 1., 1., 1., 1., 1.,\n",
       "       1., 1., 1., 1., 1., 1., 1., 1., 1., 1., 1., 1., 1., 1., 1., 1., 1.,\n",
       "       1., 1., 1., 1., 1., 1., 1., 1., 1., 1., 1., 1., 1., 1., 1., 1., 1.,\n",
       "       1., 1., 1., 1., 1., 1., 1., 1., 1., 1., 1., 1., 1., 1., 1., 1., 1.,\n",
       "       1., 1., 1., 1., 1., 1., 1., 1., 1., 1., 1., 1., 1., 1., 1., 1., 1.,\n",
       "       1., 1., 1., 1., 1., 1., 1., 1., 1., 1., 1., 1., 1., 1., 1., 1., 1.,\n",
       "       1., 1., 1., 1., 1., 1., 1., 1., 1., 1., 1., 1., 1., 1., 1., 1., 1.,\n",
       "       1., 1., 1., 1., 1., 1., 1., 1., 1., 1., 1., 1., 1., 1., 1., 1., 1.,\n",
       "       1., 1., 1., 1., 1., 1., 1., 1., 1., 1., 1., 1., 1., 1., 1., 1., 1.,\n",
       "       1., 1., 1., 1., 1., 1., 1., 1., 1., 1., 1., 1., 1., 1., 1., 1., 1.,\n",
       "       1., 1., 1., 1., 1., 1., 1., 1., 1., 1., 1., 1., 1., 1., 1., 1., 1.,\n",
       "       1., 1., 1., 1., 1., 1., 1., 1., 1., 1., 1., 1., 1., 1., 1., 1., 1.,\n",
       "       1., 1., 1., 1., 1., 1., 1., 1., 1.], dtype=float32)"
      ]
     },
     "execution_count": 22,
     "metadata": {},
     "output_type": "execute_result"
    }
   ],
   "source": [
    "did_win"
   ]
  },
  {
   "cell_type": "code",
   "execution_count": 23,
   "metadata": {},
   "outputs": [
    {
     "data": {
      "text/plain": [
       "array([0., 0., 0., 0., 0., 0., 0., 0., 0., 0., 0., 0., 0., 0., 0., 0., 0.,\n",
       "       0., 0., 0., 0., 0., 0., 0., 0., 0., 0., 0., 0., 0., 0., 0., 0., 0.,\n",
       "       0., 0., 0., 0., 0., 0., 0., 0., 0., 0., 0., 0., 0., 0., 0., 0., 0.,\n",
       "       0., 0., 0., 0., 0., 0., 0., 0., 0., 0., 0., 0., 0., 0., 0., 0., 0.,\n",
       "       0., 0., 0., 0., 0., 0., 0., 0., 0., 0., 0., 0., 0., 0., 0., 0., 0.,\n",
       "       0., 0., 0., 0., 0., 0., 0., 0., 0., 0., 0., 0., 0., 0., 0., 0., 0.,\n",
       "       0., 0., 0., 0., 0., 0., 0., 0., 0., 0., 0., 0., 0., 0., 0., 0., 0.,\n",
       "       0., 0., 0., 0., 0., 0., 0., 0., 0., 0., 0., 0., 0., 0., 0., 0., 0.,\n",
       "       0., 0., 0., 0., 0., 0., 0., 0., 0., 0., 0., 0., 0., 0., 0., 0., 0.,\n",
       "       0., 0., 0., 0., 0., 0., 0., 0., 0., 0., 0., 0., 0., 0., 0., 0., 0.,\n",
       "       0., 0., 0., 0., 0., 0., 0., 0., 0., 0., 0., 0., 0., 0., 0., 0., 0.,\n",
       "       0., 0., 0., 0., 0., 0., 0., 0., 0., 0., 0., 0., 0., 0., 0., 0., 0.,\n",
       "       0., 0., 0., 0., 0., 0., 0., 0., 0., 0., 0., 0., 0., 0., 0., 0., 0.,\n",
       "       0., 0., 0., 0., 0., 0., 0., 0., 0., 0., 0., 0., 0., 0., 0., 0., 0.,\n",
       "       0., 0., 0., 0., 0., 0., 0., 0., 0., 0., 0., 0., 0., 0., 0., 0., 0.,\n",
       "       0., 0., 0., 0., 0., 0., 0., 0., 0., 0., 0., 0., 0., 0., 0., 0., 0.,\n",
       "       0., 0., 0., 0., 0., 0., 0., 0., 0., 0., 0., 0., 0., 0., 0., 0., 0.,\n",
       "       0., 0., 0., 0., 0., 0., 0., 0., 0., 0., 0., 0., 0., 0., 0., 0., 0.,\n",
       "       0., 0., 0., 0., 0., 0., 0., 0., 0., 0., 0., 0., 0., 0., 0., 0., 0.,\n",
       "       0., 0., 0., 0., 0., 0., 0., 0., 0., 0., 0., 0., 0., 0., 0., 0., 0.,\n",
       "       0., 0., 0., 0., 0., 0., 0., 0., 0., 0., 0., 0., 0., 0., 0., 0., 0.,\n",
       "       0., 0., 0., 0., 0., 0., 0., 0., 0., 0., 0., 0., 0., 0., 0., 0., 0.,\n",
       "       0., 0., 0., 0., 0., 0., 0., 0., 0., 0., 0., 0., 0., 0., 0., 0., 0.,\n",
       "       0., 0., 0., 0., 0., 0., 0., 0., 0.], dtype=float32)"
      ]
     },
     "execution_count": 23,
     "metadata": {},
     "output_type": "execute_result"
    }
   ],
   "source": [
    "should_construct"
   ]
  },
  {
   "cell_type": "code",
   "execution_count": 24,
   "metadata": {},
   "outputs": [
    {
     "data": {
      "text/plain": [
       "(400, 32, 32, 7)"
      ]
     },
     "execution_count": 24,
     "metadata": {},
     "output_type": "execute_result"
    }
   ],
   "source": [
    "frames.shape"
   ]
  },
  {
   "cell_type": "code",
   "execution_count": 20,
   "metadata": {},
   "outputs": [
    {
     "name": "stdout",
     "output_type": "stream",
     "text": [
      "{'ENGINE_VERSION': '1.0.1.1.g49ad', 'GAME_CONSTANTS': {'CAPTURE_ENABLED': False, 'CAPTURE_RADIUS': 3, 'DEFAULT_MAP_HEIGHT': 32, 'DEFAULT_MAP_WIDTH': 32, 'DROPOFF_COST': 4000, 'DROPOFF_PENALTY_RATIO': 4, 'EXTRACT_RATIO': 4, 'FACTOR_EXP_1': 2.0, 'FACTOR_EXP_2': 2.0, 'INITIAL_ENERGY': 5000, 'INSPIRATION_ENABLED': True, 'INSPIRATION_RADIUS': 4, 'INSPIRATION_SHIP_COUNT': 2, 'INSPIRED_BONUS_MULTIPLIER': 2.0, 'INSPIRED_EXTRACT_RATIO': 4, 'INSPIRED_MOVE_COST_RATIO': 10, 'MAX_CELL_PRODUCTION': 1000, 'MAX_ENERGY': 1000, 'MAX_PLAYERS': 16, 'MAX_TURNS': 400, 'MAX_TURN_THRESHOLD': 64, 'MIN_CELL_PRODUCTION': 900, 'MIN_TURNS': 400, 'MIN_TURN_THRESHOLD': 32, 'MOVE_COST_RATIO': 10, 'NEW_ENTITY_ENERGY_COST': 1000, 'PERSISTENCE': 0.7, 'SHIPS_ABOVE_FOR_CAPTURE': 3, 'STRICT_ERRORS': False}, 'REPLAY_FILE_VERSION': 3, 'game_statistics': {'number_turns': 401, 'player_statistics': [{'all_collisions': 25, 'average_entity_distance': 7, 'final_production': 19281, 'halite_per_dropoff': [[{'x': 8, 'y': 8}, 40281]], 'interaction_opportunities': 493, 'last_turn_alive': 401, 'max_entity_distance': 21, 'mining_efficiency': 1.0024637897566073, 'number_dropoffs': 0, 'player_id': 0, 'random_id': 2524893505, 'rank': 4, 'self_collisions': 3, 'ships_captured': 0, 'ships_given': 0, 'total_bonus': 15312, 'total_mined': 40182, 'total_mined_from_captured': 0, 'total_production': 40281}, {'all_collisions': 45, 'average_entity_distance': 8, 'final_production': 45958, 'halite_per_dropoff': [[{'x': 23, 'y': 8}, 85958]], 'interaction_opportunities': 897, 'last_turn_alive': 401, 'max_entity_distance': 23, 'mining_efficiency': 1.1570913202670687, 'number_dropoffs': 0, 'player_id': 1, 'random_id': 3578317174, 'rank': 1, 'self_collisions': 11, 'ships_captured': 0, 'ships_given': 0, 'total_bonus': 37429, 'total_mined': 74288, 'total_mined_from_captured': 0, 'total_production': 85958}, {'all_collisions': 30, 'average_entity_distance': 8, 'final_production': 27874, 'halite_per_dropoff': [[{'x': 8, 'y': 23}, 53874]], 'interaction_opportunities': 483, 'last_turn_alive': 401, 'max_entity_distance': 21, 'mining_efficiency': 0.8670475577371851, 'number_dropoffs': 0, 'player_id': 2, 'random_id': 337731434, 'rank': 2, 'self_collisions': 4, 'ships_captured': 0, 'ships_given': 0, 'total_bonus': 21604, 'total_mined': 62135, 'total_mined_from_captured': 0, 'total_production': 53874}, {'all_collisions': 20, 'average_entity_distance': 10, 'final_production': 26181, 'halite_per_dropoff': [[{'x': 23, 'y': 23}, 48181]], 'interaction_opportunities': 971, 'last_turn_alive': 401, 'max_entity_distance': 31, 'mining_efficiency': 0.8714549269280857, 'number_dropoffs': 0, 'player_id': 3, 'random_id': 3998207622, 'rank': 3, 'self_collisions': 4, 'ships_captured': 0, 'ships_given': 0, 'total_bonus': 24079, 'total_mined': 55288, 'total_mined_from_captured': 0, 'total_production': 48181}]}, 'map_generator_seed': 1539907278, 'number_of_players': 4, 'players': [{'energy': 5000, 'entities': [], 'factory_location': {'x': 8, 'y': 8}, 'name': 'Counterbalance v4', 'player_id': 0}, {'energy': 5000, 'entities': [], 'factory_location': {'x': 23, 'y': 8}, 'name': 'Hjax v13', 'player_id': 1}, {'energy': 5000, 'entities': [], 'factory_location': {'x': 8, 'y': 23}, 'name': 'theMagicalKarp v8', 'player_id': 2}, {'energy': 5000, 'entities': [], 'factory_location': {'x': 23, 'y': 23}, 'name': 'lzanini v8', 'player_id': 3}]}\n"
     ]
    }
   ],
   "source": [
    "print(game.meta_data)"
   ]
  },
  {
   "cell_type": "code",
   "execution_count": null,
   "metadata": {},
   "outputs": [],
   "source": []
  },
  {
   "cell_type": "code",
   "execution_count": null,
   "metadata": {},
   "outputs": [],
   "source": []
  }
 ],
 "metadata": {
  "kernelspec": {
   "display_name": "Python 3",
   "language": "python",
   "name": "python3"
  },
  "language_info": {
   "codemirror_mode": {
    "name": "ipython",
    "version": 3
   },
   "file_extension": ".py",
   "mimetype": "text/x-python",
   "name": "python",
   "nbconvert_exporter": "python",
   "pygments_lexer": "ipython3",
   "version": "3.6.6"
  }
 },
 "nbformat": 4,
 "nbformat_minor": 2
}
