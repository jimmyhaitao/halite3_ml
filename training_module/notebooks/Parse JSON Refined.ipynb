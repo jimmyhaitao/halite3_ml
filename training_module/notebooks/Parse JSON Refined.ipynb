{
 "cells": [
  {
   "cell_type": "code",
   "execution_count": 8,
   "metadata": {},
   "outputs": [],
   "source": [
    "import copy\n",
    "import json\n",
    "import zstd\n",
    "import numpy as np"
   ]
  },
  {
   "cell_type": "code",
   "execution_count": 2,
   "metadata": {},
   "outputs": [],
   "source": [
    "from core.data_utils import Game"
   ]
  },
  {
   "cell_type": "code",
   "execution_count": null,
   "metadata": {},
   "outputs": [],
   "source": []
  },
  {
   "cell_type": "code",
   "execution_count": 82,
   "metadata": {},
   "outputs": [],
   "source": [
    "class Game2(Game):\n",
    "    def get_training_frames(self, pid=None, pname=None, v=None):\n",
    "        # pid OR name. Bot version is option (only when name given)\n",
    "        # if all None, take random player\n",
    "\n",
    "        if pid is None and pname is not None:\n",
    "            for p in self.meta_data['players']:\n",
    "                if pname == p['name'].split(' ')[0]:\n",
    "                    pid = p['player_id']\n",
    "                    break\n",
    "                    \n",
    "        assert pid is not None, \"Error: player not found in replay\"\n",
    "        \n",
    "        map_shape = self.production.shape[1], self.production.shape[2]\n",
    "        factories = np.zeros((*map_shape, 1), dtype=np.float32)\n",
    "        for fx, fy in self.factories:\n",
    "            factories[fy, fx] = -1 # Assume all are enemies\n",
    "\n",
    "        # Then set for the player of interest\n",
    "        fx, fy = self.factories[pid]\n",
    "        factories[fy, fx] = 1\n",
    "\n",
    "        # normalize some of the arrays\n",
    "        production = (self.production - 500.)/1000. # Guessing on norm values for now\n",
    "        \n",
    "        entities = self.entities.copy()\n",
    "        \n",
    "        my_ships = entities[:, :, :, 2+pid].copy()\n",
    "        \n",
    "        print(np.max(my_ships))\n",
    "        #print(my_ships[300, 25:50, 25:50])\n",
    "        print(my_ships[300, 15:60, 15:60])\n",
    "\n",
    "        has_ship = np.sum(entities[:, :, :, 2:].copy().astype(np.float32), -1)\n",
    "        \n",
    "        print(has_ship[300, 15:60, 15:60])\n",
    "        \n",
    "        has_ship_mask = has_ship.copy()\n",
    "        \n",
    "        # Convert enemy ships\n",
    "        has_ship = -1 * has_ship\n",
    "        has_ship[my_ships>0.5] = 1\n",
    "        \n",
    "        print(has_ship[300, 15:60, 15:60])\n",
    "        \n",
    "        # Normalize\n",
    "        entity_energies = (entities[:, :, :, 0].copy().astype(np.float32) - 500.)/500.\n",
    "        entity_energies *= has_ship_mask\n",
    "\n",
    "        has_ship = np.expand_dims(has_ship, -1)\n",
    "        entity_energies = np.expand_dims(entity_energies, -1)\n",
    "        \n",
    "        print(entity_energies[300, 15:60, 15:60])\n",
    "\n",
    "        dropoffs = self.dropoffs\n",
    "        has_dropoff = np.zeros((production.shape[0], *map_shape, 1), dtype=np.float32)\n",
    "        assert len(dropoffs) == len(production)\n",
    "        for ix, ds in enumerate(dropoffs):\n",
    "            for d in ds:\n",
    "                x, y, oid = d\n",
    "                v = 1. if oid == pid else -1.\n",
    "                has_dropoff[ix, y, x] = v\n",
    "\n",
    "        # factories need to be duplicated across frames\n",
    "        factories = np.repeat(np.expand_dims(factories, 0), production.shape[0], 0)\n",
    "\n",
    "        production = np.expand_dims(production, -1)\n",
    "\n",
    "        frames = np.concatenate([production, has_ship, entity_energies, factories, has_dropoff], axis=-1)\n"
   ]
  },
  {
   "cell_type": "code",
   "execution_count": null,
   "metadata": {},
   "outputs": [],
   "source": []
  },
  {
   "cell_type": "code",
   "execution_count": 83,
   "metadata": {},
   "outputs": [],
   "source": [
    "#game = GameTemp()\n",
    "game = Game2()"
   ]
  },
  {
   "cell_type": "code",
   "execution_count": 84,
   "metadata": {},
   "outputs": [],
   "source": [
    "path = '/Users/Peace/Desktop/replays/20181019/{}'\n",
    "#path = path.format('ts2018-halite-3-gold-replays_replay-20181014-000921%2B0000-1539475028-40-40')\n",
    "#path = path.format('ts2018-halite-3-gold-replays_replay-20181014-002314%2B0000-1539475868-40-40')\n",
    "path = path.format('ts2018-halite-3-gold-replays_replay-20181019-000050%2B0000-1539907246-32-32')\n",
    "\n",
    "game.load_replay(path)"
   ]
  },
  {
   "cell_type": "code",
   "execution_count": 85,
   "metadata": {},
   "outputs": [
    {
     "name": "stdout",
     "output_type": "stream",
     "text": [
      "1\n",
      "[[0 0 0 0 0 0 0 0 0 0 0 0 0 0 0 0 0]\n",
      " [0 0 0 0 0 0 0 0 0 0 0 0 0 0 0 0 0]\n",
      " [0 0 0 0 0 0 0 0 0 0 0 0 0 0 0 0 0]\n",
      " [0 0 0 0 0 0 0 0 0 0 0 0 0 0 0 0 0]\n",
      " [0 0 0 0 0 0 0 0 0 0 0 0 0 0 0 0 0]\n",
      " [0 0 0 0 0 0 0 0 0 0 0 0 0 0 0 0 0]\n",
      " [0 0 0 0 0 0 0 0 0 0 0 0 0 0 0 0 0]\n",
      " [0 0 0 0 0 0 0 0 0 0 0 0 0 0 0 0 0]\n",
      " [0 0 0 0 0 0 0 0 0 0 0 0 0 0 0 0 0]\n",
      " [0 0 0 0 0 0 0 0 0 0 0 0 0 0 0 0 0]\n",
      " [0 0 0 0 0 0 0 0 0 0 0 0 0 0 0 0 0]\n",
      " [0 0 0 0 0 0 0 0 0 0 0 0 0 0 0 0 0]\n",
      " [0 0 0 0 0 0 0 0 0 0 0 0 0 0 0 0 0]\n",
      " [0 0 0 0 0 0 0 0 0 0 0 0 0 0 0 1 0]\n",
      " [0 0 0 0 0 0 0 0 0 0 0 0 0 0 0 0 0]\n",
      " [0 0 0 0 0 0 0 0 0 0 0 0 0 0 0 0 0]\n",
      " [0 0 0 0 0 0 0 0 0 0 0 0 1 0 0 0 0]]\n",
      "[[0. 0. 0. 0. 1. 0. 0. 0. 0. 0. 0. 0. 0. 0. 0. 0. 0.]\n",
      " [0. 0. 0. 0. 0. 0. 0. 0. 0. 0. 0. 0. 0. 0. 0. 0. 0.]\n",
      " [0. 0. 0. 0. 0. 0. 0. 0. 0. 0. 0. 0. 0. 0. 0. 0. 0.]\n",
      " [0. 0. 0. 0. 0. 0. 0. 0. 0. 0. 0. 0. 0. 0. 0. 0. 0.]\n",
      " [0. 0. 0. 0. 0. 0. 0. 0. 0. 0. 0. 0. 0. 0. 0. 0. 0.]\n",
      " [0. 0. 0. 0. 0. 0. 0. 0. 0. 0. 0. 1. 0. 0. 0. 0. 0.]\n",
      " [0. 0. 0. 0. 0. 0. 0. 0. 0. 0. 0. 0. 0. 0. 1. 0. 0.]\n",
      " [0. 0. 0. 0. 0. 0. 0. 0. 0. 0. 0. 0. 0. 0. 0. 0. 1.]\n",
      " [0. 0. 0. 0. 0. 1. 0. 0. 0. 0. 0. 0. 0. 0. 0. 0. 0.]\n",
      " [0. 0. 0. 0. 0. 0. 0. 0. 0. 0. 0. 0. 0. 0. 0. 0. 0.]\n",
      " [0. 0. 0. 0. 0. 0. 0. 0. 0. 0. 0. 0. 0. 0. 0. 0. 0.]\n",
      " [0. 0. 0. 0. 0. 0. 0. 1. 0. 0. 0. 0. 0. 0. 0. 0. 0.]\n",
      " [0. 0. 0. 0. 0. 0. 0. 0. 0. 0. 0. 0. 0. 0. 0. 0. 0.]\n",
      " [0. 0. 1. 0. 0. 0. 0. 0. 0. 0. 0. 0. 0. 0. 0. 1. 0.]\n",
      " [0. 0. 0. 0. 0. 0. 0. 0. 0. 0. 0. 0. 0. 0. 0. 0. 0.]\n",
      " [0. 0. 0. 0. 0. 0. 0. 0. 0. 0. 0. 0. 0. 0. 0. 0. 0.]\n",
      " [0. 0. 0. 0. 0. 0. 0. 0. 0. 0. 0. 0. 1. 0. 0. 0. 0.]]\n",
      "[[-0. -0. -0. -0. -1. -0. -0. -0. -0. -0. -0. -0. -0. -0. -0. -0. -0.]\n",
      " [-0. -0. -0. -0. -0. -0. -0. -0. -0. -0. -0. -0. -0. -0. -0. -0. -0.]\n",
      " [-0. -0. -0. -0. -0. -0. -0. -0. -0. -0. -0. -0. -0. -0. -0. -0. -0.]\n",
      " [-0. -0. -0. -0. -0. -0. -0. -0. -0. -0. -0. -0. -0. -0. -0. -0. -0.]\n",
      " [-0. -0. -0. -0. -0. -0. -0. -0. -0. -0. -0. -0. -0. -0. -0. -0. -0.]\n",
      " [-0. -0. -0. -0. -0. -0. -0. -0. -0. -0. -0. -1. -0. -0. -0. -0. -0.]\n",
      " [-0. -0. -0. -0. -0. -0. -0. -0. -0. -0. -0. -0. -0. -0. -1. -0. -0.]\n",
      " [-0. -0. -0. -0. -0. -0. -0. -0. -0. -0. -0. -0. -0. -0. -0. -0. -1.]\n",
      " [-0. -0. -0. -0. -0. -1. -0. -0. -0. -0. -0. -0. -0. -0. -0. -0. -0.]\n",
      " [-0. -0. -0. -0. -0. -0. -0. -0. -0. -0. -0. -0. -0. -0. -0. -0. -0.]\n",
      " [-0. -0. -0. -0. -0. -0. -0. -0. -0. -0. -0. -0. -0. -0. -0. -0. -0.]\n",
      " [-0. -0. -0. -0. -0. -0. -0. -1. -0. -0. -0. -0. -0. -0. -0. -0. -0.]\n",
      " [-0. -0. -0. -0. -0. -0. -0. -0. -0. -0. -0. -0. -0. -0. -0. -0. -0.]\n",
      " [-0. -0. -1. -0. -0. -0. -0. -0. -0. -0. -0. -0. -0. -0. -0.  1. -0.]\n",
      " [-0. -0. -0. -0. -0. -0. -0. -0. -0. -0. -0. -0. -0. -0. -0. -0. -0.]\n",
      " [-0. -0. -0. -0. -0. -0. -0. -0. -0. -0. -0. -0. -0. -0. -0. -0. -0.]\n",
      " [-0. -0. -0. -0. -0. -0. -0. -0. -0. -0. -0. -0.  1. -0. -0. -0. -0.]]\n",
      "[[[-0.   ]\n",
      "  [-0.   ]\n",
      "  [-0.   ]\n",
      "  [-0.   ]\n",
      "  [-0.01 ]\n",
      "  [-0.   ]\n",
      "  [-0.   ]\n",
      "  [-0.   ]\n",
      "  [-0.   ]\n",
      "  [-0.   ]\n",
      "  [-0.   ]\n",
      "  [-0.   ]\n",
      "  [-0.   ]\n",
      "  [-0.   ]\n",
      "  [-0.   ]\n",
      "  [-0.   ]\n",
      "  [-0.   ]]\n",
      "\n",
      " [[-0.   ]\n",
      "  [-0.   ]\n",
      "  [-0.   ]\n",
      "  [-0.   ]\n",
      "  [-0.   ]\n",
      "  [-0.   ]\n",
      "  [-0.   ]\n",
      "  [-0.   ]\n",
      "  [-0.   ]\n",
      "  [-0.   ]\n",
      "  [-0.   ]\n",
      "  [-0.   ]\n",
      "  [-0.   ]\n",
      "  [-0.   ]\n",
      "  [-0.   ]\n",
      "  [-0.   ]\n",
      "  [-0.   ]]\n",
      "\n",
      " [[-0.   ]\n",
      "  [-0.   ]\n",
      "  [-0.   ]\n",
      "  [-0.   ]\n",
      "  [-0.   ]\n",
      "  [-0.   ]\n",
      "  [-0.   ]\n",
      "  [-0.   ]\n",
      "  [-0.   ]\n",
      "  [-0.   ]\n",
      "  [-0.   ]\n",
      "  [-0.   ]\n",
      "  [-0.   ]\n",
      "  [-0.   ]\n",
      "  [-0.   ]\n",
      "  [-0.   ]\n",
      "  [-0.   ]]\n",
      "\n",
      " [[-0.   ]\n",
      "  [-0.   ]\n",
      "  [-0.   ]\n",
      "  [-0.   ]\n",
      "  [-0.   ]\n",
      "  [-0.   ]\n",
      "  [-0.   ]\n",
      "  [-0.   ]\n",
      "  [-0.   ]\n",
      "  [-0.   ]\n",
      "  [-0.   ]\n",
      "  [-0.   ]\n",
      "  [-0.   ]\n",
      "  [-0.   ]\n",
      "  [-0.   ]\n",
      "  [-0.   ]\n",
      "  [-0.   ]]\n",
      "\n",
      " [[-0.   ]\n",
      "  [-0.   ]\n",
      "  [-0.   ]\n",
      "  [-0.   ]\n",
      "  [-0.   ]\n",
      "  [-0.   ]\n",
      "  [-0.   ]\n",
      "  [-0.   ]\n",
      "  [-0.   ]\n",
      "  [-0.   ]\n",
      "  [-0.   ]\n",
      "  [-0.   ]\n",
      "  [-0.   ]\n",
      "  [-0.   ]\n",
      "  [-0.   ]\n",
      "  [-0.   ]\n",
      "  [-0.   ]]\n",
      "\n",
      " [[-0.   ]\n",
      "  [-0.   ]\n",
      "  [-0.   ]\n",
      "  [-0.   ]\n",
      "  [-0.   ]\n",
      "  [-0.   ]\n",
      "  [-0.   ]\n",
      "  [-0.   ]\n",
      "  [-0.   ]\n",
      "  [-0.   ]\n",
      "  [-0.   ]\n",
      "  [-0.443]\n",
      "  [-0.   ]\n",
      "  [-0.   ]\n",
      "  [-0.   ]\n",
      "  [-0.   ]\n",
      "  [-0.   ]]\n",
      "\n",
      " [[-0.   ]\n",
      "  [-0.   ]\n",
      "  [-0.   ]\n",
      "  [-0.   ]\n",
      "  [-0.   ]\n",
      "  [-0.   ]\n",
      "  [-0.   ]\n",
      "  [-0.   ]\n",
      "  [-0.   ]\n",
      "  [-0.   ]\n",
      "  [-0.   ]\n",
      "  [-0.   ]\n",
      "  [-0.   ]\n",
      "  [-0.   ]\n",
      "  [-0.214]\n",
      "  [-0.   ]\n",
      "  [-0.   ]]\n",
      "\n",
      " [[-0.   ]\n",
      "  [-0.   ]\n",
      "  [-0.   ]\n",
      "  [-0.   ]\n",
      "  [-0.   ]\n",
      "  [-0.   ]\n",
      "  [-0.   ]\n",
      "  [-0.   ]\n",
      "  [-0.   ]\n",
      "  [-0.   ]\n",
      "  [-0.   ]\n",
      "  [-0.   ]\n",
      "  [-0.   ]\n",
      "  [-0.   ]\n",
      "  [-0.   ]\n",
      "  [-0.   ]\n",
      "  [ 0.074]]\n",
      "\n",
      " [[-0.   ]\n",
      "  [-0.   ]\n",
      "  [-0.   ]\n",
      "  [-0.   ]\n",
      "  [-0.   ]\n",
      "  [ 0.398]\n",
      "  [-0.   ]\n",
      "  [-0.   ]\n",
      "  [-0.   ]\n",
      "  [-0.   ]\n",
      "  [-0.   ]\n",
      "  [-0.   ]\n",
      "  [-0.   ]\n",
      "  [-0.   ]\n",
      "  [-0.   ]\n",
      "  [-0.   ]\n",
      "  [-0.   ]]\n",
      "\n",
      " [[-0.   ]\n",
      "  [-0.   ]\n",
      "  [-0.   ]\n",
      "  [-0.   ]\n",
      "  [-0.   ]\n",
      "  [-0.   ]\n",
      "  [-0.   ]\n",
      "  [-0.   ]\n",
      "  [-0.   ]\n",
      "  [-0.   ]\n",
      "  [-0.   ]\n",
      "  [-0.   ]\n",
      "  [-0.   ]\n",
      "  [-0.   ]\n",
      "  [-0.   ]\n",
      "  [-0.   ]\n",
      "  [-0.   ]]\n",
      "\n",
      " [[-0.   ]\n",
      "  [-0.   ]\n",
      "  [-0.   ]\n",
      "  [-0.   ]\n",
      "  [-0.   ]\n",
      "  [-0.   ]\n",
      "  [-0.   ]\n",
      "  [-0.   ]\n",
      "  [-0.   ]\n",
      "  [-0.   ]\n",
      "  [-0.   ]\n",
      "  [-0.   ]\n",
      "  [-0.   ]\n",
      "  [-0.   ]\n",
      "  [-0.   ]\n",
      "  [-0.   ]\n",
      "  [-0.   ]]\n",
      "\n",
      " [[-0.   ]\n",
      "  [-0.   ]\n",
      "  [-0.   ]\n",
      "  [-0.   ]\n",
      "  [-0.   ]\n",
      "  [-0.   ]\n",
      "  [-0.   ]\n",
      "  [-0.497]\n",
      "  [-0.   ]\n",
      "  [-0.   ]\n",
      "  [-0.   ]\n",
      "  [-0.   ]\n",
      "  [-0.   ]\n",
      "  [-0.   ]\n",
      "  [-0.   ]\n",
      "  [-0.   ]\n",
      "  [-0.   ]]\n",
      "\n",
      " [[-0.   ]\n",
      "  [-0.   ]\n",
      "  [-0.   ]\n",
      "  [-0.   ]\n",
      "  [-0.   ]\n",
      "  [-0.   ]\n",
      "  [-0.   ]\n",
      "  [-0.   ]\n",
      "  [-0.   ]\n",
      "  [-0.   ]\n",
      "  [-0.   ]\n",
      "  [-0.   ]\n",
      "  [-0.   ]\n",
      "  [-0.   ]\n",
      "  [-0.   ]\n",
      "  [-0.   ]\n",
      "  [-0.   ]]\n",
      "\n",
      " [[-0.   ]\n",
      "  [-0.   ]\n",
      "  [-0.33 ]\n",
      "  [-0.   ]\n",
      "  [-0.   ]\n",
      "  [-0.   ]\n",
      "  [-0.   ]\n",
      "  [-0.   ]\n",
      "  [-0.   ]\n",
      "  [-0.   ]\n",
      "  [-0.   ]\n",
      "  [-0.   ]\n",
      "  [-0.   ]\n",
      "  [-0.   ]\n",
      "  [-0.   ]\n",
      "  [-0.133]\n",
      "  [-0.   ]]\n",
      "\n",
      " [[-0.   ]\n",
      "  [-0.   ]\n",
      "  [-0.   ]\n",
      "  [-0.   ]\n",
      "  [-0.   ]\n",
      "  [-0.   ]\n",
      "  [-0.   ]\n",
      "  [-0.   ]\n",
      "  [-0.   ]\n",
      "  [-0.   ]\n",
      "  [-0.   ]\n",
      "  [-0.   ]\n",
      "  [-0.   ]\n",
      "  [-0.   ]\n",
      "  [-0.   ]\n",
      "  [-0.   ]\n",
      "  [-0.   ]]\n",
      "\n",
      " [[-0.   ]\n",
      "  [-0.   ]\n",
      "  [-0.   ]\n",
      "  [-0.   ]\n",
      "  [-0.   ]\n",
      "  [-0.   ]\n",
      "  [-0.   ]\n",
      "  [-0.   ]\n",
      "  [-0.   ]\n",
      "  [-0.   ]\n",
      "  [-0.   ]\n",
      "  [-0.   ]\n",
      "  [-0.   ]\n",
      "  [-0.   ]\n",
      "  [-0.   ]\n",
      "  [-0.   ]\n",
      "  [-0.   ]]\n",
      "\n",
      " [[-0.   ]\n",
      "  [-0.   ]\n",
      "  [-0.   ]\n",
      "  [-0.   ]\n",
      "  [-0.   ]\n",
      "  [-0.   ]\n",
      "  [-0.   ]\n",
      "  [-0.   ]\n",
      "  [-0.   ]\n",
      "  [-0.   ]\n",
      "  [-0.   ]\n",
      "  [-0.   ]\n",
      "  [-0.219]\n",
      "  [-0.   ]\n",
      "  [-0.   ]\n",
      "  [-0.   ]\n",
      "  [-0.   ]]]\n"
     ]
    }
   ],
   "source": [
    "game.get_training_frames(pname='mawei3')"
   ]
  },
  {
   "cell_type": "code",
   "execution_count": 43,
   "metadata": {},
   "outputs": [
    {
     "data": {
      "text/plain": [
       "dict_keys(['ENGINE_VERSION', 'GAME_CONSTANTS', 'REPLAY_FILE_VERSION', 'game_statistics', 'map_generator_seed', 'number_of_players', 'players'])"
      ]
     },
     "execution_count": 43,
     "metadata": {},
     "output_type": "execute_result"
    }
   ],
   "source": [
    "game.meta_data.keys()"
   ]
  },
  {
   "cell_type": "code",
   "execution_count": 18,
   "metadata": {},
   "outputs": [
    {
     "data": {
      "text/plain": [
       "dict_keys(['ENGINE_VERSION', 'GAME_CONSTANTS', 'REPLAY_FILE_VERSION', 'full_frames', 'game_statistics', 'map_generator_seed', 'number_of_players', 'players', 'production_map'])"
      ]
     },
     "execution_count": 18,
     "metadata": {},
     "output_type": "execute_result"
    }
   ],
   "source": [
    "game.replay.keys()"
   ]
  },
  {
   "cell_type": "code",
   "execution_count": 246,
   "metadata": {},
   "outputs": [
    {
     "data": {
      "text/plain": [
       "{}"
      ]
     },
     "execution_count": 246,
     "metadata": {},
     "output_type": "execute_result"
    }
   ],
   "source": [
    "replay = game.get_replay()\n",
    "replay['full_frames'][0]['entities']\n",
    "#frame['entities'][str(pid)]"
   ]
  },
  {
   "cell_type": "code",
   "execution_count": 247,
   "metadata": {},
   "outputs": [
    {
     "data": {
      "text/plain": [
       "553"
      ]
     },
     "execution_count": 247,
     "metadata": {},
     "output_type": "execute_result"
    }
   ],
   "source": [
    "np.max(game.entities[41, :, :, 0])"
   ]
  },
  {
   "cell_type": "code",
   "execution_count": 248,
   "metadata": {},
   "outputs": [
    {
     "name": "stdout",
     "output_type": "stream",
     "text": [
      "[[151756, 131830, 97905, 96404], [152136, 131830, 98617, 97010], [152617, 131844, 98617, 97026], [153580, 131844, 99202, 97306]]\n"
     ]
    }
   ],
   "source": [
    "print(game.deposited[-4:])"
   ]
  },
  {
   "cell_type": "code",
   "execution_count": 44,
   "metadata": {},
   "outputs": [
    {
     "name": "stdout",
     "output_type": "stream",
     "text": [
      "Frame: 113\n",
      "[[0, 42, 42, 68, 3], [0, 21, 42, 69, 2]]\n",
      "[[0 0 0 0]\n",
      " [0 0 0 0]]\n",
      "[0 0 0 0 0 0]\n",
      "[]\n"
     ]
    },
    {
     "name": "stderr",
     "output_type": "stream",
     "text": [
      "IOPub data rate exceeded.\n",
      "The notebook server will temporarily stop sending output\n",
      "to the client in order to avoid crashing it.\n",
      "To change this limit, set the config variable\n",
      "`--NotebookApp.iopub_data_rate_limit`.\n",
      "\n",
      "Current values:\n",
      "NotebookApp.iopub_data_rate_limit=1000000.0 (bytes/sec)\n",
      "NotebookApp.rate_limit_window=3.0 (secs)\n",
      "\n"
     ]
    }
   ],
   "source": [
    "# Frame 6 (0 indexed) corresponds to frame 7 in game (1 indexed)\n",
    "for i in range(113, 118):\n",
    "    print('Frame: {}'.format(i))\n",
    "    print(game.events[i]) # Happens after moves are made\n",
    "    #print(game.production[i, 21, 12])\n",
    "    print(game.moves[i, 15, 3:5])\n",
    "    #print(game.generate[i])\n",
    "    print(game.entities[i, 15, 3])\n",
    "    #print(game.energy[i])\n",
    "    #print(game.deposited[i])\n",
    "    print(game.dropoffs[i]) # Current for this frame\n",
    "    #print(game.production_compressed)"
   ]
  },
  {
   "cell_type": "code",
   "execution_count": 180,
   "metadata": {},
   "outputs": [
    {
     "data": {
      "text/plain": [
       "[[8, 0, 0], [34, 38, 0]]"
      ]
     },
     "execution_count": 180,
     "metadata": {},
     "output_type": "execute_result"
    }
   ],
   "source": [
    "game.dropoffs[-1]"
   ]
  },
  {
   "cell_type": "code",
   "execution_count": null,
   "metadata": {},
   "outputs": [],
   "source": []
  },
  {
   "cell_type": "code",
   "execution_count": 45,
   "metadata": {},
   "outputs": [
    {
     "name": "stdout",
     "output_type": "stream",
     "text": [
      "501\n",
      "(500, 64, 64)\n",
      "(500, 64, 64, 4)\n",
      "(500, 4)\n",
      "500\n",
      "501\n",
      "501\n",
      "(4, 2)\n",
      "500\n",
      "502\n"
     ]
    }
   ],
   "source": [
    "print(len(game.events))\n",
    "print(game.production.shape)\n",
    "print(game.moves.shape)\n",
    "print(game.generate.shape)\n",
    "print(len(game.entities))\n",
    "print(len(game.energy))\n",
    "print(len(game.deposited))\n",
    "print(game.factories.shape)\n",
    "print(len(game.dropoffs))\n",
    "print(len(game.production_compressed))"
   ]
  },
  {
   "cell_type": "code",
   "execution_count": 29,
   "metadata": {},
   "outputs": [
    {
     "data": {
      "text/plain": [
       "dtype('int64')"
      ]
     },
     "execution_count": 29,
     "metadata": {},
     "output_type": "execute_result"
    }
   ],
   "source": [
    "game.initial_production.dtype"
   ]
  },
  {
   "cell_type": "code",
   "execution_count": 32,
   "metadata": {},
   "outputs": [],
   "source": [
    "game.initial_production = game.initial_production.astype('int16')"
   ]
  },
  {
   "cell_type": "code",
   "execution_count": 47,
   "metadata": {},
   "outputs": [
    {
     "data": {
      "text/plain": [
       "983"
      ]
     },
     "execution_count": 47,
     "metadata": {},
     "output_type": "execute_result"
    }
   ],
   "source": [
    "np.max(game.initial_production)"
   ]
  },
  {
   "cell_type": "code",
   "execution_count": 52,
   "metadata": {},
   "outputs": [],
   "source": [
    "import pickle\n",
    "import gzip\n",
    "#game.replay = None\n",
    "with gzip.open('/Users/Peace/Desktop/test.pkl', 'wb') as outfile:\n",
    "    pickle.dump(game.entities, outfile)"
   ]
  },
  {
   "cell_type": "code",
   "execution_count": 78,
   "metadata": {},
   "outputs": [
    {
     "data": {
      "text/plain": [
       "(425, 40, 40, 2)"
      ]
     },
     "execution_count": 78,
     "metadata": {},
     "output_type": "execute_result"
    }
   ],
   "source": [
    "game.moves[0].shape"
   ]
  },
  {
   "cell_type": "code",
   "execution_count": 12,
   "metadata": {},
   "outputs": [
    {
     "data": {
      "text/plain": [
       "3077"
      ]
     },
     "execution_count": 12,
     "metadata": {},
     "output_type": "execute_result"
    }
   ],
   "source": [
    "np.max(game.production)"
   ]
  },
  {
   "cell_type": "code",
   "execution_count": 18,
   "metadata": {},
   "outputs": [
    {
     "data": {
      "text/plain": [
       "{'ENGINE_VERSION': '0.6.2.prelaunch.51.g40db6',\n",
       " 'GAME_CONSTANTS': {'CAPTURE_ENABLED': False,\n",
       "  'CAPTURE_RADIUS': 3,\n",
       "  'DEFAULT_MAP_HEIGHT': 40,\n",
       "  'DEFAULT_MAP_WIDTH': 40,\n",
       "  'DROPOFF_COST': 4000,\n",
       "  'DROPOFF_PENALTY_RATIO': 4,\n",
       "  'EXTRACT_RATIO': 4,\n",
       "  'FACTOR_EXP_1': 2.0,\n",
       "  'FACTOR_EXP_2': 2.0,\n",
       "  'INITIAL_ENERGY': 5000,\n",
       "  'INSPIRATION_ENABLED': True,\n",
       "  'INSPIRATION_RADIUS': 4,\n",
       "  'INSPIRATION_SHIP_COUNT': 2,\n",
       "  'INSPIRED_BONUS_MULTIPLIER': 2.0,\n",
       "  'INSPIRED_EXTRACT_RATIO': 4,\n",
       "  'INSPIRED_MOVE_COST_RATIO': 10,\n",
       "  'MAX_CELL_PRODUCTION': 1000,\n",
       "  'MAX_ENERGY': 1000,\n",
       "  'MAX_PLAYERS': 16,\n",
       "  'MAX_TURNS': 425,\n",
       "  'MAX_TURN_THRESHOLD': 64,\n",
       "  'MIN_CELL_PRODUCTION': 900,\n",
       "  'MIN_TURNS': 400,\n",
       "  'MIN_TURN_THRESHOLD': 32,\n",
       "  'MOVE_COST_RATIO': 10,\n",
       "  'NEW_ENTITY_ENERGY_COST': 1000,\n",
       "  'PERSISTENCE': 0.7,\n",
       "  'SHIPS_ABOVE_FOR_CAPTURE': 3,\n",
       "  'STRICT_ERRORS': False},\n",
       " 'REPLAY_FILE_VERSION': 3,\n",
       " 'game_statistics': {'number_turns': 426,\n",
       "  'player_statistics': [{'all_collisions': 41,\n",
       "    'average_entity_distance': 20,\n",
       "    'final_production': 56568,\n",
       "    'halite_per_dropoff': [[{'x': 34, 'y': 38}, 40927],\n",
       "     [{'x': 11, 'y': 20}, 29104],\n",
       "     [{'x': 8, 'y': 0}, 33537]],\n",
       "    'interaction_opportunities': 422,\n",
       "    'last_turn_alive': 426,\n",
       "    'max_entity_distance': 40,\n",
       "    'mining_efficiency': 0.8374748316042275,\n",
       "    'number_dropoffs': 2,\n",
       "    'player_id': 0,\n",
       "    'random_id': 46495736,\n",
       "    'rank': 1,\n",
       "    'self_collisions': 25,\n",
       "    'ships_captured': 0,\n",
       "    'ships_given': 0,\n",
       "    'total_bonus': 12164,\n",
       "    'total_mined': 123667,\n",
       "    'total_mined_from_captured': 0,\n",
       "    'total_production': 103568},\n",
       "   {'all_collisions': 20,\n",
       "    'average_entity_distance': 11,\n",
       "    'final_production': 19964,\n",
       "    'halite_per_dropoff': [[{'x': 28, 'y': 20}, 35964]],\n",
       "    'interaction_opportunities': 335,\n",
       "    'last_turn_alive': 426,\n",
       "    'max_entity_distance': 33,\n",
       "    'mining_efficiency': 0.7075766816849313,\n",
       "    'number_dropoffs': 0,\n",
       "    'player_id': 1,\n",
       "    'random_id': 2043943086,\n",
       "    'rank': 2,\n",
       "    'self_collisions': 4,\n",
       "    'ships_captured': 0,\n",
       "    'ships_given': 0,\n",
       "    'total_bonus': 8060,\n",
       "    'total_mined': 50827,\n",
       "    'total_mined_from_captured': 0,\n",
       "    'total_production': 35964}]},\n",
       " 'map_generator_seed': 1539475028,\n",
       " 'number_of_players': 2,\n",
       " 'players': [{'energy': 5000,\n",
       "   'entities': [],\n",
       "   'factory_location': {'x': 11, 'y': 20},\n",
       "   'name': 'Rachol v50',\n",
       "   'player_id': 0},\n",
       "  {'energy': 5000,\n",
       "   'entities': [],\n",
       "   'factory_location': {'x': 28, 'y': 20},\n",
       "   'name': 'Joshua-Wright v12',\n",
       "   'player_id': 1}]}"
      ]
     },
     "execution_count": 18,
     "metadata": {},
     "output_type": "execute_result"
    }
   ],
   "source": [
    "game.meta_data"
   ]
  },
  {
   "cell_type": "code",
   "execution_count": 4,
   "metadata": {},
   "outputs": [
    {
     "data": {
      "text/plain": [
       "dict_keys(['ENGINE_VERSION', 'GAME_CONSTANTS', 'REPLAY_FILE_VERSION', 'full_frames', 'game_statistics', 'map_generator_seed', 'number_of_players', 'players', 'production_map'])"
      ]
     },
     "execution_count": 4,
     "metadata": {},
     "output_type": "execute_result"
    }
   ],
   "source": [
    "parsed_replay.keys()"
   ]
  },
  {
   "cell_type": "code",
   "execution_count": null,
   "metadata": {},
   "outputs": [],
   "source": []
  },
  {
   "cell_type": "code",
   "execution_count": 5,
   "metadata": {},
   "outputs": [],
   "source": [
    "meta_data = {key: parsed_replay[key] for key in ['ENGINE_VERSION', 'GAME_CONSTANTS', 'REPLAY_FILE_VERSION',\n",
    "                                                'game_statistics', 'map_generator_seed',\n",
    "                                                'number_of_players', 'players']}"
   ]
  },
  {
   "cell_type": "code",
   "execution_count": 23,
   "metadata": {},
   "outputs": [
    {
     "name": "stdout",
     "output_type": "stream",
     "text": [
      "dict_keys(['ENGINE_VERSION', 'GAME_CONSTANTS', 'REPLAY_FILE_VERSION', 'game_statistics', 'map_generator_seed', 'number_of_players', 'players'])\n"
     ]
    }
   ],
   "source": [
    "print(meta_data.keys())"
   ]
  },
  {
   "cell_type": "code",
   "execution_count": 6,
   "metadata": {},
   "outputs": [
    {
     "data": {
      "text/plain": [
       "dict_keys(['cells', 'deposited', 'energy', 'entities', 'events', 'moves'])"
      ]
     },
     "execution_count": 6,
     "metadata": {},
     "output_type": "execute_result"
    }
   ],
   "source": [
    "parsed_replay['full_frames'][0].keys()"
   ]
  },
  {
   "cell_type": "code",
   "execution_count": 43,
   "metadata": {},
   "outputs": [
    {
     "data": {
      "text/plain": [
       "{'cells': [],\n",
       " 'deposited': {'0': 0, '1': 0, '2': 0, '3': 0},\n",
       " 'energy': {'0': 3000, '1': 3000, '2': 4000, '3': 4000},\n",
       " 'entities': {'0': {'2': {'energy': 0,\n",
       "    'is_inspired': False,\n",
       "    'x': 14,\n",
       "    'y': 14}},\n",
       "  '1': {'3': {'energy': 0, 'is_inspired': False, 'x': 33, 'y': 14}},\n",
       "  '2': {'1': {'energy': 0, 'is_inspired': False, 'x': 14, 'y': 33}},\n",
       "  '3': {'0': {'energy': 0, 'is_inspired': False, 'x': 33, 'y': 33}}},\n",
       " 'events': [{'energy': 0,\n",
       "   'id': 4,\n",
       "   'location': {'x': 33, 'y': 14},\n",
       "   'owner_id': 1,\n",
       "   'type': 'spawn'},\n",
       "  {'energy': 0,\n",
       "   'id': 5,\n",
       "   'location': {'x': 14, 'y': 14},\n",
       "   'owner_id': 0,\n",
       "   'type': 'spawn'}],\n",
       " 'moves': {'0': [{'direction': 'n', 'id': 2, 'type': 'm'}, {'type': 'g'}],\n",
       "  '1': [{'direction': 'n', 'id': 3, 'type': 'm'}, {'type': 'g'}],\n",
       "  '2': [{'direction': 'e', 'id': 1, 'type': 'm'}],\n",
       "  '3': [{'direction': 'w', 'id': 0, 'type': 'm'}]}}"
      ]
     },
     "execution_count": 43,
     "metadata": {},
     "output_type": "execute_result"
    }
   ],
   "source": [
    "parsed_replay['full_frames'][2]#['energy']"
   ]
  },
  {
   "cell_type": "code",
   "execution_count": 8,
   "metadata": {},
   "outputs": [
    {
     "data": {
      "text/plain": [
       "dict_keys(['energy'])"
      ]
     },
     "execution_count": 8,
     "metadata": {},
     "output_type": "execute_result"
    }
   ],
   "source": [
    "parsed_replay['production_map']['grid'][0][0].keys()"
   ]
  },
  {
   "cell_type": "code",
   "execution_count": 9,
   "metadata": {},
   "outputs": [],
   "source": [
    "assert list(parsed_replay['production_map']['grid'][0][0].keys()) == ['energy'] # Ensure no surprises here"
   ]
  },
  {
   "cell_type": "code",
   "execution_count": 20,
   "metadata": {},
   "outputs": [],
   "source": [
    "raw_energy_grid = parsed_replay['production_map']['grid']\n",
    "energy_grid = []\n",
    "for row in raw_energy_grid:\n",
    "    energy_grid.append([x['energy'] for x in row])\n",
    "first_frame = np.array(energy_grid)\n",
    "\n",
    "frames = []\n",
    "for frame in parsed_replay['full_frames']:\n",
    "    prev_frame = first_frame if len(frames) == 0 else frames[-1]\n",
    "    current_frame = prev_frame.copy()\n",
    "    for c in frame['cells']:\n",
    "        current_frame[c['y'], c['x']] = c['production']    \n",
    "    frames.append(current_frame)\n"
   ]
  },
  {
   "cell_type": "code",
   "execution_count": 33,
   "metadata": {},
   "outputs": [
    {
     "data": {
      "text/plain": [
       "85"
      ]
     },
     "execution_count": 33,
     "metadata": {},
     "output_type": "execute_result"
    }
   ],
   "source": [
    "np.array(frames)[203, 25, 28]"
   ]
  },
  {
   "cell_type": "code",
   "execution_count": 69,
   "metadata": {},
   "outputs": [],
   "source": [
    "map_shape = np.array(frames).shape[1:]"
   ]
  },
  {
   "cell_type": "code",
   "execution_count": 133,
   "metadata": {},
   "outputs": [],
   "source": [
    "def parse_events(frame):\n",
    "    frame_events = []\n",
    "    for e in frame['events']:\n",
    "        assert e['type'] in ['spawn', 'shipwreck'], print(e)\n",
    "        if 'owner_id' in e: # spawn\n",
    "            event = [1, e['location']['x'], e['location']['y'], e['id'], e['owner_id']]\n",
    "        else: # shipwreck\n",
    "            event = [0, e['location']['x'], e['location']['y']] + [x for x in e['ships']]\n",
    "        frame_events.append(event)\n",
    "    return frame_events"
   ]
  },
  {
   "cell_type": "code",
   "execution_count": null,
   "metadata": {},
   "outputs": [],
   "source": [
    "events = []\n",
    "for frame in parsed_replay['full_frames']: # [:3]\n",
    "    frame_events = parse_events(frame)\n",
    "    events.append(frame_events)"
   ]
  },
  {
   "cell_type": "code",
   "execution_count": 59,
   "metadata": {},
   "outputs": [],
   "source": [
    "deposited = [x['deposited'] for x in parsed_replay['full_frames']]\n",
    "deposited = [[x[y] if y in x else 0 for y in ['0', '1', '2', '3']] for x in deposited]"
   ]
  },
  {
   "cell_type": "code",
   "execution_count": null,
   "metadata": {},
   "outputs": [],
   "source": []
  },
  {
   "cell_type": "code",
   "execution_count": 56,
   "metadata": {},
   "outputs": [
    {
     "data": {
      "text/plain": [
       "array([[     0,      0,      0,      0],\n",
       "       [     0,      0,      0,      0],\n",
       "       [     0,      0,      0,      0],\n",
       "       ...,\n",
       "       [ 42068, 146814,  69898,   1294],\n",
       "       [ 42068, 146842,  69898,   1294],\n",
       "       [ 42068, 146842,  69898,   1294]])"
      ]
     },
     "execution_count": 56,
     "metadata": {},
     "output_type": "execute_result"
    }
   ],
   "source": [
    "np.array(deposited)"
   ]
  },
  {
   "cell_type": "code",
   "execution_count": 97,
   "metadata": {},
   "outputs": [
    {
     "data": {
      "text/plain": [
       "4"
      ]
     },
     "execution_count": 97,
     "metadata": {},
     "output_type": "execute_result"
    }
   ],
   "source": [
    "meta_data['number_of_players']"
   ]
  },
  {
   "cell_type": "code",
   "execution_count": 107,
   "metadata": {},
   "outputs": [
    {
     "name": "stdout",
     "output_type": "stream",
     "text": [
      "4\n"
     ]
    },
    {
     "data": {
      "text/plain": [
       "(450, 48, 48, 4)"
      ]
     },
     "execution_count": 107,
     "metadata": {},
     "output_type": "execute_result"
    }
   ],
   "source": [
    "\n",
    "\n",
    "def parse_moves(parsed_replay):\n",
    "\n",
    "    num_players = len(parsed_replay['full_frames'][1]['moves']) #meta_data['number_of_players']\n",
    "\n",
    "    valid_moves = ['o', 'n', 'e', 's', 'w']\n",
    "    moves = []\n",
    "    generate = np.zeros((len(parsed_replay['full_frames']) - 2, num_players), dtype=np.uint8)\n",
    "    for ix, frame in enumerate(parsed_replay['full_frames'][1:-1]): # No moves on first or last frames\n",
    "        frame_moves = np.zeros((*map_shape, num_players), dtype=np.uint8)\n",
    "        for pid in range(num_players):\n",
    "            if str(pid) not in frame['moves']:\n",
    "                continue\n",
    "            for move in frame['moves'][str(pid)]:\n",
    "\n",
    "                if move['type'] == 'm':\n",
    "                    mid = move['id']\n",
    "                    ent = frame['entities'][str(pid)][str(mid)]\n",
    "                    assert move['direction'] in valid_moves\n",
    "                    frame_moves[ent['y'], ent['x'], pid] = valid_moves.index(move['direction'])\n",
    "                else:\n",
    "                    generate[ix, pid] = 1\n",
    "        moves.append(frame_moves)\n",
    "\n",
    "    return np.array(moves), generate\n",
    "\n",
    "    \n",
    "    "
   ]
  },
  {
   "cell_type": "code",
   "execution_count": 108,
   "metadata": {},
   "outputs": [
    {
     "data": {
      "text/plain": [
       "dict_keys(['cells', 'deposited', 'energy', 'entities', 'events', 'moves'])"
      ]
     },
     "execution_count": 108,
     "metadata": {},
     "output_type": "execute_result"
    }
   ],
   "source": [
    "parsed_replay['full_frames'][1].keys()"
   ]
  },
  {
   "cell_type": "code",
   "execution_count": 122,
   "metadata": {},
   "outputs": [
    {
     "data": {
      "text/plain": [
       "{'0': {'2': {'energy': 0, 'is_inspired': False, 'x': 14, 'y': 14}},\n",
       " '1': {'3': {'energy': 0, 'is_inspired': False, 'x': 33, 'y': 14}},\n",
       " '2': {'1': {'energy': 0, 'is_inspired': False, 'x': 14, 'y': 33}},\n",
       " '3': {'0': {'energy': 0, 'is_inspired': False, 'x': 33, 'y': 33}}}"
      ]
     },
     "execution_count": 122,
     "metadata": {},
     "output_type": "execute_result"
    }
   ],
   "source": [
    "parsed_replay['full_frames'][2]['entities']"
   ]
  },
  {
   "cell_type": "code",
   "execution_count": 123,
   "metadata": {},
   "outputs": [],
   "source": [
    "def parse_entities(parsed_replay):\n",
    "\n",
    "    num_players = len(parsed_replay['full_frames'][1]['moves']) #meta_data['number_of_players']\n",
    "    num_features = 2\n",
    "    entities = []\n",
    "    for ix, frame in enumerate(parsed_replay['full_frames'][1:-1]): # No enties on first frame (last doesn't matter)\n",
    "        frame_entities = np.zeros((*map_shape, num_features+num_players), dtype=np.uint8)\n",
    "        for pid in range(num_players):\n",
    "            for ent in frame['entities'][str(pid)]:\n",
    "                ent = frame['entities'][str(pid)][ent]\n",
    "                frame_entities[ent['y'], ent['x'], 0] = ent['energy']\n",
    "                frame_entities[ent['y'], ent['x'], 1] = int(ent['is_inspired'])\n",
    "                frame_entities[ent['y'], ent['x'], pid+num_features] = 1\n",
    "        entities.append(frame_entities)\n",
    "\n",
    "    return np.array(entities)"
   ]
  },
  {
   "cell_type": "code",
   "execution_count": 127,
   "metadata": {},
   "outputs": [
    {
     "data": {
      "text/plain": [
       "array([[  0,   0,   0,   0,   0,   0],\n",
       "       [  0,   0,   0,   0,   0,   0],\n",
       "       [  0,   0,   0,   0,   0,   0],\n",
       "       [  0,   0,   0,   0,   0,   0],\n",
       "       [  0,   0,   0,   0,   0,   0],\n",
       "       [  0,   0,   0,   0,   0,   0],\n",
       "       [  0,   0,   0,   0,   0,   0],\n",
       "       [  0,   0,   0,   0,   0,   0],\n",
       "       [  0,   0,   0,   0,   0,   0],\n",
       "       [  0,   0,   0,   0,   0,   0],\n",
       "       [  0,   0,   0,   0,   0,   0],\n",
       "       [  0,   0,   0,   0,   0,   0],\n",
       "       [233,   0,   1,   0,   0,   0],\n",
       "       [  0,   0,   0,   0,   0,   0],\n",
       "       [167,   0,   1,   0,   0,   0],\n",
       "       [  0,   0,   0,   0,   0,   0],\n",
       "       [  0,   0,   0,   0,   0,   0],\n",
       "       [  0,   0,   0,   0,   0,   0],\n",
       "       [  0,   0,   0,   0,   0,   0],\n",
       "       [  0,   0,   0,   0,   0,   0],\n",
       "       [  0,   0,   0,   0,   0,   0],\n",
       "       [  0,   0,   0,   0,   0,   0],\n",
       "       [  0,   0,   0,   0,   0,   0],\n",
       "       [  0,   0,   0,   0,   0,   0],\n",
       "       [  0,   0,   0,   0,   0,   0],\n",
       "       [  0,   0,   0,   0,   0,   0],\n",
       "       [  0,   0,   0,   0,   0,   0],\n",
       "       [  0,   0,   0,   0,   0,   0],\n",
       "       [  0,   0,   0,   0,   0,   0],\n",
       "       [  0,   0,   0,   0,   0,   0],\n",
       "       [  0,   0,   0,   0,   0,   0],\n",
       "       [  0,   0,   0,   0,   0,   0],\n",
       "       [  0,   0,   0,   0,   0,   0],\n",
       "       [  0,   0,   0,   0,   0,   0],\n",
       "       [  0,   0,   0,   0,   0,   0],\n",
       "       [  0,   0,   0,   0,   0,   0],\n",
       "       [  0,   0,   0,   0,   0,   0],\n",
       "       [  0,   0,   0,   0,   0,   0],\n",
       "       [  0,   0,   0,   0,   0,   0],\n",
       "       [  0,   0,   0,   0,   0,   0],\n",
       "       [  0,   0,   0,   0,   0,   0],\n",
       "       [  0,   0,   0,   0,   0,   0],\n",
       "       [  0,   0,   0,   0,   0,   0],\n",
       "       [  0,   0,   0,   0,   0,   0],\n",
       "       [  0,   0,   0,   0,   0,   0],\n",
       "       [  0,   0,   0,   0,   0,   0],\n",
       "       [  0,   0,   0,   0,   0,   0],\n",
       "       [  0,   0,   0,   0,   0,   0]], dtype=uint8)"
      ]
     },
     "execution_count": 127,
     "metadata": {},
     "output_type": "execute_result"
    }
   ],
   "source": [
    "parse_entities(parsed_replay)[100, 20]"
   ]
  },
  {
   "cell_type": "code",
   "execution_count": 120,
   "metadata": {},
   "outputs": [],
   "source": [
    "energy = [[f['energy'][y] for y in sorted(f['energy'].keys())] for f in parsed_replay['full_frames']]\n",
    "energy = np.array(energy)"
   ]
  },
  {
   "cell_type": "code",
   "execution_count": null,
   "metadata": {},
   "outputs": [],
   "source": [
    "entities = []\n",
    "for frame in parsed_replay['full_frames']:\n",
    "    frame[]"
   ]
  },
  {
   "cell_type": "code",
   "execution_count": 119,
   "metadata": {},
   "outputs": [
    {
     "data": {
      "text/plain": [
       "array([[ 5000,  5000,  5000,  5000],\n",
       "       [ 4000,  4000,  4000,  4000],\n",
       "       [ 3000,  3000,  4000,  4000],\n",
       "       ...,\n",
       "       [18068, 92814, 54898,   294],\n",
       "       [18068, 92842, 54898,   294],\n",
       "       [18068, 92842, 54898,   294]])"
      ]
     },
     "execution_count": 119,
     "metadata": {},
     "output_type": "execute_result"
    }
   ],
   "source": [
    "np.array(energy)"
   ]
  },
  {
   "cell_type": "code",
   "execution_count": 24,
   "metadata": {},
   "outputs": [
    {
     "data": {
      "text/plain": [
       "{'cells': [],\n",
       " 'deposited': {'0': 42068, '1': 146842, '2': 69898, '3': 1294},\n",
       " 'energy': {'0': 18068, '1': 92842, '2': 54898, '3': 294},\n",
       " 'entities': {'0': {'47': {'energy': 0,\n",
       "    'is_inspired': False,\n",
       "    'x': 14,\n",
       "    'y': 14},\n",
       "   '70': {'energy': 612, 'is_inspired': False, 'x': 13, 'y': 13},\n",
       "   '81': {'energy': 610, 'is_inspired': False, 'x': 13, 'y': 14},\n",
       "   '87': {'energy': 633, 'is_inspired': False, 'x': 14, 'y': 15},\n",
       "   '93': {'energy': 633, 'is_inspired': False, 'x': 15, 'y': 14}},\n",
       "  '1': {'100': {'energy': 33, 'is_inspired': False, 'x': 30, 'y': 11},\n",
       "   '103': {'energy': 17, 'is_inspired': False, 'x': 28, 'y': 5},\n",
       "   '104': {'energy': 6, 'is_inspired': False, 'x': 30, 'y': 4},\n",
       "   '105': {'energy': 12, 'is_inspired': False, 'x': 33, 'y': 15},\n",
       "   '112': {'energy': 32, 'is_inspired': False, 'x': 43, 'y': 22},\n",
       "   '15': {'energy': 12, 'is_inspired': False, 'x': 37, 'y': 8},\n",
       "   '25': {'energy': 24, 'is_inspired': False, 'x': 32, 'y': 13},\n",
       "   '52': {'energy': 1, 'is_inspired': False, 'x': 41, 'y': 21},\n",
       "   '58': {'energy': 0, 'is_inspired': False, 'x': 43, 'y': 21},\n",
       "   '59': {'energy': 30, 'is_inspired': False, 'x': 29, 'y': 6},\n",
       "   '61': {'energy': 38, 'is_inspired': False, 'x': 33, 'y': 47},\n",
       "   '66': {'energy': 15, 'is_inspired': False, 'x': 30, 'y': 6},\n",
       "   '82': {'energy': 1, 'is_inspired': False, 'x': 30, 'y': 18},\n",
       "   '94': {'energy': 23, 'is_inspired': False, 'x': 43, 'y': 24},\n",
       "   '95': {'energy': 24, 'is_inspired': False, 'x': 28, 'y': 4},\n",
       "   '99': {'energy': 3, 'is_inspired': False, 'x': 34, 'y': 43}},\n",
       "  '2': {'13': {'energy': 491, 'is_inspired': False, 'x': 13, 'y': 19},\n",
       "   '17': {'energy': 4, 'is_inspired': False, 'x': 13, 'y': 26},\n",
       "   '26': {'energy': 0, 'is_inspired': False, 'x': 20, 'y': 34},\n",
       "   '29': {'energy': 868, 'is_inspired': False, 'x': 12, 'y': 33},\n",
       "   '36': {'energy': 2, 'is_inspired': False, 'x': 15, 'y': 35},\n",
       "   '42': {'energy': 3, 'is_inspired': False, 'x': 11, 'y': 32},\n",
       "   '44': {'energy': 0, 'is_inspired': False, 'x': 16, 'y': 34},\n",
       "   '46': {'energy': 150, 'is_inspired': False, 'x': 6, 'y': 31},\n",
       "   '54': {'energy': 904, 'is_inspired': False, 'x': 10, 'y': 33},\n",
       "   '60': {'energy': 800, 'is_inspired': False, 'x': 21, 'y': 45},\n",
       "   '63': {'energy': 5, 'is_inspired': False, 'x': 15, 'y': 27},\n",
       "   '69': {'energy': 4, 'is_inspired': False, 'x': 12, 'y': 36},\n",
       "   '88': {'energy': 4, 'is_inspired': False, 'x': 15, 'y': 38}},\n",
       "  '3': {}},\n",
       " 'events': [],\n",
       " 'moves': {}}"
      ]
     },
     "execution_count": 24,
     "metadata": {},
     "output_type": "execute_result"
    }
   ],
   "source": [
    "parsed_replay['full_frames'][-1]"
   ]
  },
  {
   "cell_type": "code",
   "execution_count": null,
   "metadata": {},
   "outputs": [],
   "source": []
  },
  {
   "cell_type": "code",
   "execution_count": 82,
   "metadata": {},
   "outputs": [],
   "source": []
  },
  {
   "cell_type": "code",
   "execution_count": 76,
   "metadata": {},
   "outputs": [],
   "source": [
    "def parse_replay(data, player_names):\n",
    "    \n",
    "    for player in player_names:\n",
    "\n",
    "        print(\"Load Basic Information\")\n",
    "        player = [p for p in data['players'] if p['name'].split(\" \")[0] == player_name][0]\n",
    "        player_id = int(player['player_id'])\n",
    "        my_shipyard = hlt.Shipyard(player_id, None,\n",
    "                                   hlt.Position(player['factory_location']['x'], player['factory_location']['y']))\n",
    "        other_shipyards = [\n",
    "            hlt.Shipyard(p['player_id'], None, hlt.Position(p['factory_location']['x'], p['factory_location']['y']))\n",
    "            for p in data['players'] if int(p['player_id']) != player_id]\n",
    "        width = data['production_map']['width']\n",
    "        height = data['production_map']['height']\n",
    "\n",
    "\n",
    "\n",
    "        print(\"Load Player Ships\")\n",
    "        moves = [{} if str(player_id) not in f['moves'] else {m['id']: m['direction'] for m in f['moves'][str(player_id)] if\n",
    "                                                              m['type'] == \"m\"} for f in data['full_frames']]\n",
    "        ships = [{} if str(player_id) not in f['entities'] else {\n",
    "            int(sid): hlt.Ship(player_id, int(sid), hlt.Position(ship['x'], ship['y']), ship['energy']) for sid, ship in\n",
    "            f['entities'][str(player_id)].items()} for f in data['full_frames']]\n",
    "\n",
    "        print(\"Load Other Player Ships\")\n",
    "        other_ships = [\n",
    "            {int(sid): hlt.Ship(int(pid), int(sid), hlt.Position(ship['x'], ship['y']), ship['energy']) for pid, p in\n",
    "             f['entities'].items() if\n",
    "             int(pid) != player_id for sid, ship in p.items()} for f in data['full_frames']]\n",
    "\n",
    "        print(\"Load Droppoff Information\")\n",
    "        first_my_dropoffs = [my_shipyard]\n",
    "        first_them_dropoffs = other_shipyards\n",
    "        my_dropoffs = []\n",
    "        them_dropoffs = []\n",
    "        for f in data['full_frames']:\n",
    "            new_my_dropoffs = copy.deepcopy(first_my_dropoffs if len(my_dropoffs) == 0 else my_dropoffs[-1])\n",
    "            new_them_dropoffs = copy.deepcopy(first_them_dropoffs if len(them_dropoffs) == 0 else them_dropoffs[-1])\n",
    "            for e in f['events']:\n",
    "                if e['type'] == 'construct':\n",
    "                    if int(e['owner_id']) == player_id:\n",
    "                        new_my_dropoffs.append(\n",
    "                            hlt.Dropoff(player_id, None, hlt.Position(e['location']['x'], e['location']['y'])))\n",
    "                    else:\n",
    "                        new_them_dropoffs.append(\n",
    "                            hlt.Dropoff(e['owner_id'], None, hlt.Position(e['location']['x'], e['location']['y'])))\n",
    "            my_dropoffs.append(new_my_dropoffs)\n",
    "            them_dropoffs.append(new_them_dropoffs)\n",
    "        yield list(zip(frames, moves, ships, other_ships, my_dropoffs, them_dropoffs))"
   ]
  },
  {
   "cell_type": "code",
   "execution_count": 77,
   "metadata": {},
   "outputs": [],
   "source": [
    "player_names = [x['name'].split(' ')[0] for x in meta_data['players']]"
   ]
  },
  {
   "cell_type": "code",
   "execution_count": 83,
   "metadata": {},
   "outputs": [
    {
     "name": "stdout",
     "output_type": "stream",
     "text": [
      "Load Cell Information\n"
     ]
    }
   ],
   "source": [
    "frames = extract_frames(parsed_replay)"
   ]
  },
  {
   "cell_type": "code",
   "execution_count": 84,
   "metadata": {},
   "outputs": [
    {
     "data": {
      "text/plain": [
       "[<training_module.hlt.GameMap at 0x1722e5eb8>,\n",
       " <training_module.hlt.GameMap at 0x1722e5ef0>]"
      ]
     },
     "execution_count": 84,
     "metadata": {},
     "output_type": "execute_result"
    }
   ],
   "source": [
    "frames[:2]"
   ]
  },
  {
   "cell_type": "code",
   "execution_count": 79,
   "metadata": {},
   "outputs": [
    {
     "name": "stdout",
     "output_type": "stream",
     "text": [
      "Load Basic Information\n",
      "Load Cell Information\n",
      "Load Player Ships\n",
      "Load Other Player Ships\n",
      "Load Droppoff Information\n",
      "Load Basic Information\n",
      "Load Cell Information\n",
      "Load Player Ships\n",
      "Load Other Player Ships\n",
      "Load Droppoff Information\n",
      "Load Basic Information\n",
      "Load Cell Information\n",
      "Load Player Ships\n",
      "Load Other Player Ships\n",
      "Load Droppoff Information\n",
      "Load Basic Information\n",
      "Load Cell Information\n",
      "Load Player Ships\n",
      "Load Other Player Ships\n",
      "Load Droppoff Information\n"
     ]
    }
   ],
   "source": [
    "#all_data = []\n",
    "_data = parse_replay(parsed_replay, player_names)\n"
   ]
  },
  {
   "cell_type": "code",
   "execution_count": 134,
   "metadata": {},
   "outputs": [],
   "source": [
    "import datetime"
   ]
  },
  {
   "cell_type": "code",
   "execution_count": 150,
   "metadata": {},
   "outputs": [],
   "source": [
    "today = datetime.datetime.now() - datetime.timedelta(days=2)\n",
    "today = str(today).split('-')[:3]\n",
    "today[-1] = today[-1].split(' ')[0]\n",
    "today = [int(x) for x in today]"
   ]
  },
  {
   "cell_type": "code",
   "execution_count": 151,
   "metadata": {},
   "outputs": [
    {
     "data": {
      "text/plain": [
       "[2018, 10, 14]"
      ]
     },
     "execution_count": 151,
     "metadata": {},
     "output_type": "execute_result"
    }
   ],
   "source": [
    "today"
   ]
  },
  {
   "cell_type": "code",
   "execution_count": null,
   "metadata": {},
   "outputs": [],
   "source": []
  }
 ],
 "metadata": {
  "kernelspec": {
   "display_name": "Python 3",
   "language": "python",
   "name": "python3"
  },
  "language_info": {
   "codemirror_mode": {
    "name": "ipython",
    "version": 3
   },
   "file_extension": ".py",
   "mimetype": "text/x-python",
   "name": "python",
   "nbconvert_exporter": "python",
   "pygments_lexer": "ipython3",
   "version": "3.6.6"
  }
 },
 "nbformat": 4,
 "nbformat_minor": 2
}
