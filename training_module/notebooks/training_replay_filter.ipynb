{
 "cells": [
  {
   "cell_type": "code",
   "execution_count": 34,
   "metadata": {},
   "outputs": [],
   "source": [
    "import pickle\n",
    "import gzip\n",
    "import numpy as np"
   ]
  },
  {
   "cell_type": "code",
   "execution_count": 23,
   "metadata": {},
   "outputs": [
    {
     "name": "stdout",
     "output_type": "stream",
     "text": [
      "dict_keys(['ts2018-halite-3-gold-replays_replay-20181014-012557%2B0000-1539480252-40-40', 'ts2018-halite-3-gold-replays_replay-20181014-000934%2B0000-1539475042-40-40', 'ts2018-halite-3-gold-replays_replay-20181014-000923%2B0000-1539475556-64-64', 'ts2018-halite-3-gold-replays_replay-20181014-011645%2B0000-1539479573-64-64', 'ts2018-halite-3-gold-replays_replay-20181014-002359%2B0000-1539475808-56-56', 'ts2018-halite-3-gold-replays_replay-20181014-004707%2B0000-1539477901-56-56', 'ts2018-halite-3-gold-replays_replay-20181014-011440%2B0000-1539479587-32-32', 'ts2018-halite-3-gold-replays_replay-20181014-010659%2B0000-1539478386-56-56', 'ts2018-halite-3-gold-replays_replay-20181014-003759%2B0000-1539477308-64-64', 'ts2018-halite-3-gold-replays_replay-20181014-004959%2B0000-1539477921-64-64', 'ts2018-halite-3-gold-replays_replay-20181014-010104%2B0000-1539478034-56-56', 'ts2018-halite-3-gold-replays_replay-20181014-011304%2B0000-1539479486-56-56', 'ts2018-halite-3-gold-replays_replay-20181014-012259%2B0000-1539479395-48-48', 'ts2018-halite-3-gold-replays_replay-20181014-002420%2B0000-1539476598-48-48', 'ts2018-halite-3-gold-replays_replay-20181014-004147%2B0000-1539477558-56-56', 'ts2018-halite-3-gold-replays_replay-20181014-003845%2B0000-1539476643-64-64', 'ts2018-halite-3-gold-replays_replay-20181014-010525%2B0000-1539479015-48-48', 'ts2018-halite-3-gold-replays_replay-20181014-011112%2B0000-1539479346-64-64', 'ts2018-halite-3-gold-replays_replay-20181014-000921%2B0000-1539475028-40-40', 'ts2018-halite-3-gold-replays_replay-20181014-001318%2B0000-1539475882-56-56', 'ts2018-halite-3-gold-replays_replay-20181014-002314%2B0000-1539475868-40-40', 'ts2018-halite-3-gold-replays_replay-20181014-004131%2B0000-1539476864-56-56', 'ts2018-halite-3-gold-replays_replay-20181014-010845%2B0000-1539479200-64-64', 'ts2018-halite-3-gold-replays_replay-20181014-003032%2B0000-1539476859-48-48', 'ts2018-halite-3-gold-replays_replay-20181014-004432%2B0000-1539477711-56-56', 'ts2018-halite-3-gold-replays_replay-20181014-012837%2B0000-1539479684-56-56', 'ts2018-halite-3-gold-replays_replay-20181014-003409%2B0000-1539476518-40-40', 'ts2018-halite-3-gold-replays_replay-20181014-004427%2B0000-1539477037-56-56', 'ts2018-halite-3-gold-replays_replay-20181014-012051%2B0000-1539480035-40-40', 'ts2018-halite-3-gold-replays_replay-20181014-012407%2B0000-1539480056-56-56', 'ts2018-halite-3-gold-replays_replay-20181014-012014%2B0000-1539479281-40-40', 'ts2018-halite-3-gold-replays_replay-20181014-005157%2B0000-1539478217-56-56'])\n"
     ]
    }
   ],
   "source": [
    "with gzip.open('/Users/Peace/Desktop/replays/INDEX.pkl', 'rb') as infile:\n",
    "    master_index = pickle.load(infile)\n",
    "\n",
    "print(master_index.keys())"
   ]
  },
  {
   "cell_type": "code",
   "execution_count": 30,
   "metadata": {},
   "outputs": [
    {
     "name": "stdout",
     "output_type": "stream",
     "text": [
      "13\n"
     ]
    }
   ],
   "source": [
    "keep = []\n",
    "for rp in master_index:\n",
    "    for p in master_index[rp]['players']:\n",
    "        if 'Rachol' == p['name'].split(' ')[0]:\n",
    "            keep.append(rp)\n",
    "            break\n",
    "print(len(keep))"
   ]
  },
  {
   "cell_type": "code",
   "execution_count": 10,
   "metadata": {},
   "outputs": [],
   "source": [
    "path = '/Users/Peace/Desktop/replays/{}/{}'\n",
    "day = keep[0].replace('ts2018-halite-3-gold-replays_replay-', '').split('-')[0]\n",
    "path = path.format(day, keep[0])\n",
    "\n",
    "# with zstd.open(, 'rb') as infile:\n",
    "#     replay = pickle.load(infile)"
   ]
  },
  {
   "cell_type": "code",
   "execution_count": 9,
   "metadata": {},
   "outputs": [],
   "source": [
    "from core.data_utils import Game"
   ]
  },
  {
   "cell_type": "code",
   "execution_count": 11,
   "metadata": {},
   "outputs": [],
   "source": [
    "game = Game()\n",
    "game.load_replay(path)"
   ]
  },
  {
   "cell_type": "code",
   "execution_count": 31,
   "metadata": {},
   "outputs": [
    {
     "name": "stdout",
     "output_type": "stream",
     "text": [
      "(425, 40, 40)\n",
      "(425, 40, 40, 2)\n",
      "(425, 2)\n",
      "(425, 40, 40, 4)\n",
      "(426, 2)\n",
      "426\n",
      "(2, 2)\n",
      "425\n",
      "426\n",
      "0\n"
     ]
    }
   ],
   "source": [
    "print(game.production.shape)\n",
    "print(game.moves.shape)\n",
    "print(game.generate.shape)\n",
    "print(game.entities.shape)\n",
    "print(game.energy.shape)\n",
    "print(len(game.deposited))\n",
    "print(game.factories.shape)\n",
    "print(len(game.dropoffs))\n",
    "print(len(game.events))\n",
    "\n",
    "for p in game.meta_data['players']:\n",
    "    if 'Rachol' == p['name'].split(' ')[0]:\n",
    "        pid = p['player_id']\n",
    "print(pid)"
   ]
  },
  {
   "cell_type": "code",
   "execution_count": 41,
   "metadata": {},
   "outputs": [],
   "source": [
    "\n",
    "map_shape = game.production.shape[1], game.production.shape[2] \n",
    "factories = np.zeros((*map_shape, 1), dtype=np.float32)\n",
    "for fx, fy in game.factories:\n",
    "    factories[fy, fx] = -1 # Assume all are enemies\n",
    "\n",
    "# Then set for the player of interest\n",
    "fx, fy = game.factories[pid]\n",
    "factories[fy, fx] = 1\n",
    "\n",
    "\n"
   ]
  },
  {
   "cell_type": "code",
   "execution_count": 58,
   "metadata": {},
   "outputs": [],
   "source": [
    "# normalize some of the arrays\n",
    "production = (game.production - 500.)/1000. # Guessing on norm values for now\n",
    "\n",
    "entities = game.entities.copy()\n",
    "has_ship = entities > 0\n",
    "has_ship_mask = np.sum(has_ship.astype(np.float32), -1)\n",
    "my_ships = has_ship[:, :, :, pid].copy()\n",
    "\n",
    "entities = (np.sum(entities, -1) - 500.)/1000.\n",
    "\n",
    "\n",
    "has_ship = -1 * np.sum(has_ship.astype(np.float32), axis=-1)\n",
    "#print(entities.shape)\n",
    "#print(my_ships.shape)\n",
    "has_ship[my_ships] = 1\n",
    "entities *= has_ship_mask\n",
    "#print(has_ship[100, 20:40, 20:40])\n",
    "#print(entities[100, 20:40, 20:40])\n",
    "has_ship = np.expand_dims(has_ship, -1)\n",
    "entities = np.expand_dims(entities, -1)"
   ]
  },
  {
   "cell_type": "code",
   "execution_count": 61,
   "metadata": {},
   "outputs": [
    {
     "name": "stdout",
     "output_type": "stream",
     "text": [
      "(425, 40, 40, 1)\n"
     ]
    }
   ],
   "source": [
    "dropoffs = game.dropoffs\n",
    "has_dropoff = np.zeros((production.shape[0], *map_shape, 1), dtype=np.float32)\n",
    "assert len(dropoffs) == len(production)\n",
    "for ix, ds in enumerate(dropoffs):\n",
    "    for d in ds:\n",
    "        x, y, oid = d\n",
    "        v = 1. if oid == pid else -1.\n",
    "        has_dropoff[ix, y, x] = v\n",
    "print(has_dropoff.shape)"
   ]
  },
  {
   "cell_type": "code",
   "execution_count": 63,
   "metadata": {},
   "outputs": [
    {
     "name": "stdout",
     "output_type": "stream",
     "text": [
      "(425, 40, 40, 1)\n"
     ]
    }
   ],
   "source": [
    "# factories need to be duplicated accross frames\n",
    "factories = np.repeat(np.expand_dims(factories, 0), production.shape[0], 0)\n",
    "print(factories.shape)"
   ]
  },
  {
   "cell_type": "code",
   "execution_count": 66,
   "metadata": {},
   "outputs": [],
   "source": [
    "production = np.expand_dims(production, -1)"
   ]
  },
  {
   "cell_type": "code",
   "execution_count": 67,
   "metadata": {},
   "outputs": [],
   "source": [
    "frames = np.concatenate([production, has_ship, entities, factories, has_dropoff], axis=-1)"
   ]
  },
  {
   "cell_type": "code",
   "execution_count": 69,
   "metadata": {},
   "outputs": [
    {
     "data": {
      "text/plain": [
       "(425, 40, 40, 5)"
      ]
     },
     "execution_count": 69,
     "metadata": {},
     "output_type": "execute_result"
    }
   ],
   "source": [
    "frames.shape"
   ]
  },
  {
   "cell_type": "code",
   "execution_count": null,
   "metadata": {},
   "outputs": [],
   "source": [
    "# Note: 'no-moves' do not need explicit assignment since 0 means 'still'\n",
    "# and the arrays are initialled with zero."
   ]
  },
  {
   "cell_type": "code",
   "execution_count": 76,
   "metadata": {},
   "outputs": [
    {
     "data": {
      "text/plain": [
       "array([[0, 0, 0, 0, 0, 0, 0, 0, 0, 0, 0, 0, 0, 0, 0, 0, 0, 0, 0, 0],\n",
       "       [0, 0, 0, 0, 0, 0, 0, 0, 0, 0, 0, 0, 0, 0, 0, 0, 0, 0, 0, 0],\n",
       "       [0, 0, 0, 0, 0, 0, 0, 0, 0, 0, 0, 0, 0, 0, 0, 0, 0, 0, 0, 0],\n",
       "       [0, 0, 0, 0, 0, 0, 0, 0, 0, 0, 0, 0, 0, 0, 0, 0, 0, 0, 0, 0],\n",
       "       [0, 0, 0, 0, 0, 0, 0, 0, 0, 0, 0, 0, 0, 0, 0, 0, 0, 0, 0, 0],\n",
       "       [0, 0, 0, 0, 0, 0, 0, 0, 0, 0, 0, 0, 0, 0, 0, 0, 0, 0, 0, 0],\n",
       "       [0, 0, 0, 0, 0, 0, 0, 0, 0, 0, 0, 0, 0, 0, 0, 0, 0, 0, 0, 0],\n",
       "       [0, 0, 0, 0, 0, 0, 0, 0, 0, 0, 0, 0, 0, 0, 0, 0, 0, 0, 0, 0],\n",
       "       [0, 0, 0, 0, 0, 0, 0, 0, 0, 0, 0, 0, 0, 0, 0, 0, 0, 0, 0, 0],\n",
       "       [0, 0, 0, 0, 0, 0, 0, 0, 0, 0, 0, 0, 0, 0, 0, 0, 0, 0, 0, 0],\n",
       "       [0, 0, 0, 0, 0, 0, 0, 0, 0, 0, 0, 0, 0, 0, 0, 0, 0, 0, 0, 0],\n",
       "       [0, 0, 0, 0, 0, 0, 0, 0, 0, 0, 0, 0, 0, 0, 0, 0, 0, 0, 0, 0],\n",
       "       [0, 0, 0, 0, 0, 0, 0, 0, 0, 0, 0, 0, 0, 0, 0, 0, 0, 0, 0, 0],\n",
       "       [0, 0, 0, 0, 0, 0, 0, 0, 0, 0, 0, 0, 0, 0, 0, 0, 0, 0, 0, 0],\n",
       "       [0, 0, 0, 0, 0, 0, 0, 0, 0, 0, 0, 0, 0, 0, 0, 0, 0, 0, 0, 0],\n",
       "       [0, 0, 0, 0, 0, 0, 0, 0, 0, 0, 0, 0, 0, 0, 0, 0, 0, 0, 0, 0],\n",
       "       [0, 0, 0, 0, 0, 0, 0, 0, 0, 0, 0, 0, 0, 0, 0, 0, 0, 0, 0, 0],\n",
       "       [0, 0, 0, 0, 0, 0, 0, 0, 0, 0, 0, 0, 0, 0, 0, 0, 0, 0, 0, 0],\n",
       "       [0, 0, 0, 0, 0, 0, 0, 0, 0, 0, 0, 0, 0, 0, 0, 0, 0, 0, 0, 0],\n",
       "       [0, 0, 0, 0, 0, 0, 0, 0, 0, 0, 0, 0, 0, 0, 0, 0, 0, 0, 0, 0]],\n",
       "      dtype=uint8)"
      ]
     },
     "execution_count": 76,
     "metadata": {},
     "output_type": "execute_result"
    }
   ],
   "source": [
    "game.moves[100, 20:40, 20:40, 0]"
   ]
  },
  {
   "cell_type": "code",
   "execution_count": 74,
   "metadata": {},
   "outputs": [
    {
     "data": {
      "text/plain": [
       "array([[-0., -0., -0., -0., -0., -0., -0., -1., -0.,  1., -0., -0., -0.,\n",
       "        -0., -0., -0., -0., -0., -0., -0.],\n",
       "       [-0., -0., -0., -0., -0., -0., -0., -0.,  1., -0., -0., -0., -0.,\n",
       "        -0., -0., -0., -0., -0., -0., -0.],\n",
       "       [-0., -0., -0., -0., -0., -0., -0., -0., -0., -0., -0., -0., -0.,\n",
       "        -0., -0., -0., -0., -0., -0., -0.],\n",
       "       [-0., -0., -0., -0., -0., -0., -0., -0., -0., -0., -0., -0., -0.,\n",
       "        -0., -0., -0., -0., -0., -0., -0.],\n",
       "       [-0., -0., -0., -0., -0., -0., -0., -0., -0., -0., -0., -0., -0.,\n",
       "        -0., -0., -0., -0., -0., -0., -0.],\n",
       "       [-0., -0., -0., -0., -0., -0., -0., -0.,  1.,  1., -0., -0., -0.,\n",
       "        -0., -0., -0., -0., -0., -0., -0.],\n",
       "       [-0., -0., -0., -0., -0., -0., -0., -0., -0., -0., -0., -0., -0.,\n",
       "        -0., -0., -0., -0., -0., -0., -0.],\n",
       "       [-0., -0., -0., -0., -0., -0., -0., -0., -0., -0., -0., -0., -0.,\n",
       "        -0., -0., -0., -0., -0., -0., -0.],\n",
       "       [-0., -0., -0., -0., -0., -0., -0., -0., -0., -0., -0., -0., -0.,\n",
       "        -0., -0., -0., -0., -0., -0., -0.],\n",
       "       [-0., -0., -0., -0., -0., -0., -0., -0., -0., -0., -0.,  1., -0.,\n",
       "        -0., -0., -0., -0., -0., -0., -0.],\n",
       "       [-0., -0., -0., -0., -0., -0., -0., -0.,  1., -0., -0., -0., -0.,\n",
       "        -0., -0., -0., -0., -0., -0., -0.],\n",
       "       [-0., -0., -0., -0., -0., -0., -0., -0., -0., -0., -0., -0., -0.,\n",
       "        -0., -0., -0., -0., -0., -0., -0.],\n",
       "       [-0., -0., -0., -0., -0., -0., -0., -0., -0., -0., -0., -0., -0.,\n",
       "        -0., -0., -0., -0., -0., -0., -0.],\n",
       "       [-0., -0., -0., -0., -0., -0., -0., -0., -0., -0., -0., -0., -0.,\n",
       "        -0., -0., -0., -0., -0., -0., -0.],\n",
       "       [-0., -0., -0., -0., -0., -0., -0., -0., -0., -0., -0., -0., -0.,\n",
       "        -0., -0., -0., -0., -0., -0., -0.],\n",
       "       [-0., -0., -0., -0., -0., -0., -0., -0., -0., -0., -0., -0., -0.,\n",
       "        -0., -0., -0., -0., -0., -0., -0.],\n",
       "       [-0., -0., -0., -0., -0., -0., -0., -0., -0., -0., -0., -0., -0.,\n",
       "        -0., -0., -0., -0., -0., -0., -0.],\n",
       "       [-0., -0., -0., -0., -0., -0., -0., -0., -0., -0., -0., -0., -0.,\n",
       "        -0., -0., -0., -0., -0., -0., -0.],\n",
       "       [-0., -0., -0., -0., -0., -0., -0., -0., -0., -0., -0., -0., -0.,\n",
       "        -0., -0., -0., -0., -0., -0., -0.],\n",
       "       [-0., -0., -0., -0., -0., -0., -0., -0., -0., -0., -0., -0., -0.,\n",
       "        -0., -0., -0., -0., -0., -0., -0.]], dtype=float32)"
      ]
     },
     "execution_count": 74,
     "metadata": {},
     "output_type": "execute_result"
    }
   ],
   "source": [
    "np.squeeze(has_ship[100, 20:40, 20:40])"
   ]
  },
  {
   "cell_type": "code",
   "execution_count": null,
   "metadata": {},
   "outputs": [],
   "source": []
  }
 ],
 "metadata": {
  "kernelspec": {
   "display_name": "Python 3",
   "language": "python",
   "name": "python3"
  },
  "language_info": {
   "codemirror_mode": {
    "name": "ipython",
    "version": 3
   },
   "file_extension": ".py",
   "mimetype": "text/x-python",
   "name": "python",
   "nbconvert_exporter": "python",
   "pygments_lexer": "ipython3",
   "version": "3.6.6"
  }
 },
 "nbformat": 4,
 "nbformat_minor": 2
}
