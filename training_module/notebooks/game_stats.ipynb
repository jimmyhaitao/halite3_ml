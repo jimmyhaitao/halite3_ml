{
 "cells": [
  {
   "cell_type": "code",
   "execution_count": 5,
   "metadata": {},
   "outputs": [],
   "source": [
    "import pickle\n",
    "import gzip"
   ]
  },
  {
   "cell_type": "code",
   "execution_count": 6,
   "metadata": {},
   "outputs": [],
   "source": [
    "with gzip.open('/Users/Peace/Desktop/INDEX.pkl', 'rb') as infile:\n",
    "    index = pickle.load(infile)"
   ]
  },
  {
   "cell_type": "code",
   "execution_count": 17,
   "metadata": {},
   "outputs": [
    {
     "name": "stdout",
     "output_type": "stream",
     "text": [
      "52\n",
      "1841\n"
     ]
    }
   ],
   "source": [
    "incomplete_games = 0\n",
    "total_games = 0\n",
    "for replay in index:\n",
    "    ps = index[replay]['game_statistics']['player_statistics']\n",
    "    ages = []\n",
    "    for player in ps:\n",
    "        age = player['last_turn_alive']\n",
    "        ages.append(age)\n",
    "    ages = set(ages)\n",
    "    if len(ages) != 1 or ages.pop() < 100:\n",
    "        incomplete_games += 1\n",
    "    total_games += 1\n",
    "print(incomplete_games)\n",
    "print(total_games)"
   ]
  },
  {
   "cell_type": "code",
   "execution_count": 16,
   "metadata": {},
   "outputs": [
    {
     "name": "stdout",
     "output_type": "stream",
     "text": [
      "1841\n"
     ]
    }
   ],
   "source": [
    "print(len(index))"
   ]
  },
  {
   "cell_type": "code",
   "execution_count": 25,
   "metadata": {},
   "outputs": [
    {
     "name": "stdout",
     "output_type": "stream",
     "text": [
      "{'ENGINE_VERSION': '1.0.1.1.g49ad', 'GAME_CONSTANTS': {'CAPTURE_ENABLED': False, 'CAPTURE_RADIUS': 3, 'DEFAULT_MAP_HEIGHT': 56, 'DEFAULT_MAP_WIDTH': 56, 'DROPOFF_COST': 4000, 'DROPOFF_PENALTY_RATIO': 4, 'EXTRACT_RATIO': 4, 'FACTOR_EXP_1': 2.0, 'FACTOR_EXP_2': 2.0, 'INITIAL_ENERGY': 5000, 'INSPIRATION_ENABLED': True, 'INSPIRATION_RADIUS': 4, 'INSPIRATION_SHIP_COUNT': 2, 'INSPIRED_BONUS_MULTIPLIER': 2.0, 'INSPIRED_EXTRACT_RATIO': 4, 'INSPIRED_MOVE_COST_RATIO': 10, 'MAX_CELL_PRODUCTION': 1000, 'MAX_ENERGY': 1000, 'MAX_PLAYERS': 16, 'MAX_TURNS': 475, 'MAX_TURN_THRESHOLD': 64, 'MIN_CELL_PRODUCTION': 900, 'MIN_TURNS': 400, 'MIN_TURN_THRESHOLD': 32, 'MOVE_COST_RATIO': 10, 'NEW_ENTITY_ENERGY_COST': 1000, 'PERSISTENCE': 0.7, 'SHIPS_ABOVE_FOR_CAPTURE': 3, 'STRICT_ERRORS': False}, 'REPLAY_FILE_VERSION': 3, 'game_statistics': {'number_turns': 476, 'player_statistics': [{'all_collisions': 0, 'average_entity_distance': 8, 'final_production': 32905, 'halite_per_dropoff': [[{'x': 14, 'y': 28}, 46905]], 'interaction_opportunities': 34, 'last_turn_alive': 476, 'max_entity_distance': 21, 'mining_efficiency': 0.9294376411841636, 'number_dropoffs': 0, 'player_id': 0, 'random_id': 3798709788, 'rank': 2, 'self_collisions': 0, 'ships_captured': 0, 'ships_given': 0, 'total_bonus': 1410, 'total_mined': 50466, 'total_mined_from_captured': 0, 'total_production': 46905}, {'all_collisions': 0, 'average_entity_distance': 11, 'final_production': 34367, 'halite_per_dropoff': [[{'x': 41, 'y': 28}, 49367]], 'interaction_opportunities': 29, 'last_turn_alive': 476, 'max_entity_distance': 33, 'mining_efficiency': 0.6450082966408404, 'number_dropoffs': 0, 'player_id': 1, 'random_id': 4140096816, 'rank': 1, 'self_collisions': 0, 'ships_captured': 0, 'ships_given': 0, 'total_bonus': 2454, 'total_mined': 76537, 'total_mined_from_captured': 0, 'total_production': 49367}]}, 'map_generator_seed': 1539822490, 'number_of_players': 2, 'players': [{'energy': 5000, 'entities': [], 'factory_location': {'x': 14, 'y': 28}, 'name': 'nkelly13 v5', 'player_id': 0}, {'energy': 5000, 'entities': [], 'factory_location': {'x': 41, 'y': 28}, 'name': 'Guizz27 v3', 'player_id': 1}]}\n"
     ]
    },
    {
     "ename": "NameError",
     "evalue": "name 'dsfs' is not defined",
     "output_type": "error",
     "traceback": [
      "\u001b[0;31m---------------------------------------------------------------------------\u001b[0m",
      "\u001b[0;31mNameError\u001b[0m                                 Traceback (most recent call last)",
      "\u001b[0;32m<ipython-input-25-3f13da8fd8d8>\u001b[0m in \u001b[0;36m<module>\u001b[0;34m\u001b[0m\n\u001b[1;32m      5\u001b[0m     \u001b[0mps\u001b[0m \u001b[0;34m=\u001b[0m \u001b[0mindex\u001b[0m\u001b[0;34m[\u001b[0m\u001b[0mreplay\u001b[0m\u001b[0;34m]\u001b[0m\u001b[0;34m\u001b[0m\u001b[0m\n\u001b[1;32m      6\u001b[0m     \u001b[0mprint\u001b[0m\u001b[0;34m(\u001b[0m\u001b[0mps\u001b[0m\u001b[0;34m)\u001b[0m\u001b[0;34m\u001b[0m\u001b[0m\n\u001b[0;32m----> 7\u001b[0;31m     \u001b[0mdsfs\u001b[0m\u001b[0;34m\u001b[0m\u001b[0m\n\u001b[0m",
      "\u001b[0;31mNameError\u001b[0m: name 'dsfs' is not defined"
     ]
    }
   ],
   "source": [
    "incomplete_games = 0\n",
    "total_games = 0\n",
    "for replay in index:\n",
    "    ps = index[replay]['game_statistics']['player_statistics']\n",
    "    ps = index[replay]\n",
    "    print(ps)\n",
    "    dsfs\n"
   ]
  },
  {
   "cell_type": "code",
   "execution_count": null,
   "metadata": {},
   "outputs": [],
   "source": []
  }
 ],
 "metadata": {
  "kernelspec": {
   "display_name": "Python 3",
   "language": "python",
   "name": "python3"
  },
  "language_info": {
   "codemirror_mode": {
    "name": "ipython",
    "version": 3
   },
   "file_extension": ".py",
   "mimetype": "text/x-python",
   "name": "python",
   "nbconvert_exporter": "python",
   "pygments_lexer": "ipython3",
   "version": "3.6.6"
  }
 },
 "nbformat": 4,
 "nbformat_minor": 2
}
